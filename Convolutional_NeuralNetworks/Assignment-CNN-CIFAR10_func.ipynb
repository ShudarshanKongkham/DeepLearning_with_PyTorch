{
 "cells": [
  {
   "cell_type": "markdown",
   "metadata": {
    "deletable": false,
    "editable": false,
    "nbgrader": {
     "grade": false,
     "locked": true,
     "solution": false
    }
   },
   "source": [
    "# <font style=\"color:blue\">Assignment: Implement a CNN for Image Classification on CIFAR10 dataset</font>\n",
    "\n",
    "We have seen how to implement a CNN (LeNet5 and LeNet with the batch norm) in the last section. We used MNIST and Fashion MNIST dataset which are grayscale or single channel datasets. In this assignment, you will implement a CNN Model ( similar to LeNet ) for classifying objects in the `CIFAR10` dataset. \n",
    "\n",
    "The CIFAR10 dataset has the following properties\n",
    "1. It has `10` classes.  \n",
    "1. It has colored images, so it has `3-channels`. \n",
    "1. The image shape is `32 x 32`.\n",
    "\n",
    "Samples of CIFAR10- dataset ([source](https://pytorch.org/tutorials/beginner/blitz/cifar10_tutorial.html?highlight=cifar)):\n",
    "\n",
    "<img src=\"https://www.learnopencv.com/wp-content/uploads/2020/01/c3_w3_cirar10.png\" width=700>\n",
    "\n",
    "\n",
    "# <font color='blue'>Marking Scheme</font>\n",
    "\n",
    "### <font style=\"color:green\">Maximum Points: 30\n",
    "\n",
    "<div>\n",
    "    <table>\n",
    "        <tr><td><h3>Sr. no.</h3></td> <td><h3>Problem</h3></td> <td><h3>Points</h3></td> </tr>\n",
    "        <tr><td><h3>1</h3></td> <td><h3>Implement the CNN Model</h3></td> <td><h3>10</h3></td> </tr>\n",
    "        <tr><td><h3>2</h3></td> <td><h3>Find Mean and Std of Training Data</h3></td> <td><h3>5</h3></td> </tr>\n",
    "        <tr><td><h3>3</h3></td> <td><h3>Model Training & Accuracy</h3></td> <td><h3>15</h3></td> </tr>\n",
    "    </table>\n",
    "</div>\n",
    "\n",
    "\n",
    "# <font color='blue'>Problem Description</font>\n",
    "\n",
    "### <font color='blue'>1. Implement the CNN Model</font>\n",
    "Since the task is to classify objects in a dataset of color images, you need to implement a CNN with 10 output classes. **Also, your model must use `Conv2d`, `BatchNorm2d`, and `ReLU`.** \n",
    "\n",
    "**You need to define the model architecture in the function: `MyModel` ( Step 1 )**\n",
    "\n",
    "Hint: For color images you need to use an input shape that is different than the ones we have been using till now, so that it accepts 3 channel inputs.\n",
    "\n",
    "### <font color='blue'>2. Find Mean and Std of Training Data</font>\n",
    "\n",
    "It is a good practice to normalize the training data. To normalize the data, we need to compute mean and std. As the dataset has colored images, it has `3-channel` (RGB or BGR). We have to find mean and std per channel using training data. \n",
    "\n",
    "**You need to compute the mean and std for the dataset in the function: `get_mean_std_train_data` ( Step 3 )**\n",
    "\n",
    "### <font color='blue'>3. Model Training and Accuracy</font>\n",
    "\n",
    "Once you have defined the model, you can train it. To get better accuracy, you need to play around the training configuration **( Step 5 )** and even the model architecture. You can check the accuracy by running the training loop in `Step 11`.\n",
    "\n",
    "Here are a few hints on how you can improve the accuracy:\n",
    "- Train for longer duration\n",
    "- Try with different learning rate\n",
    "- Try to add more convolutional layers to the architecture\n",
    "- Try to add more nodes in the layers.\n",
    "\n",
    "You need to achieve **75% accuracy** ( See Step11 ) in order to get full marks for this part. \n",
    "\n",
    "**You do not need to implement anything for this, just changing the parameters as mentioned above and running the Notebook will give you the accuracy. ( Step 5 and Step 11 )**"
   ]
  },
  {
   "cell_type": "markdown",
   "metadata": {
    "deletable": false,
    "editable": false,
    "nbgrader": {
     "grade": false,
     "locked": true,
     "solution": false
    }
   },
   "source": [
    "Note that this notebook requires you to change a few stuff in the model to get the desired accuracy. Therefore you need train the model all over again (which seems to be time-consuming).   \n",
    "\n",
    "You can choose to execute this notebook in Google-Colab so that you have access to a GPU-machine and prototype faster.   \n",
    "\n",
    "Once the desired results are acheived, you can copy-paste the changes made in the Colab-notebook to this notebook so that the grading occurs on the latest code. \n",
    "\n",
    "You can access the Colab-notebook from [here](https://colab.research.google.com/drive/18lgSRmHPagJkB0xmDq5ZiWGkuWcHnUc2?usp=sharing)"
   ]
  },
  {
   "cell_type": "code",
   "execution_count": 1,
   "metadata": {
    "collapsed": true,
    "deletable": false,
    "editable": false,
    "nbgrader": {
     "grade": false,
     "locked": true,
     "solution": false
    }
   },
   "outputs": [],
   "source": [
    "required_training = True"
   ]
  },
  {
   "cell_type": "code",
   "execution_count": 2,
   "metadata": {
    "collapsed": true,
    "deletable": false,
    "editable": false,
    "nbgrader": {
     "grade": false,
     "locked": true,
     "solution": false
    }
   },
   "outputs": [],
   "source": [
    "%matplotlib inline"
   ]
  },
  {
   "cell_type": "code",
   "execution_count": 3,
   "metadata": {
    "collapsed": true,
    "deletable": false,
    "editable": false,
    "nbgrader": {
     "grade": false,
     "locked": true,
     "solution": false
    }
   },
   "outputs": [],
   "source": [
    "import matplotlib.pyplot as plt  # one of the best graphics library for python"
   ]
  },
  {
   "cell_type": "code",
   "execution_count": 4,
   "metadata": {
    "collapsed": true,
    "deletable": false,
    "editable": false,
    "nbgrader": {
     "grade": false,
     "locked": true,
     "solution": false
    }
   },
   "outputs": [],
   "source": [
    "import os\n",
    "import time\n",
    "\n",
    "from typing import Iterable\n",
    "from dataclasses import dataclass\n",
    "\n",
    "import numpy as np\n",
    "import torch\n",
    "import torch.nn as nn\n",
    "import torch.optim as optim\n",
    "import torch.nn.functional as F\n",
    "\n",
    "from torchvision import datasets, transforms\n",
    "import torchvision"
   ]
  },
  {
   "cell_type": "markdown",
   "metadata": {},
   "source": [
    "# <font style=\"color:blue\">1. CNN Model Architecture [10 Points]</font>\n",
    "\n",
    "You have to write the model code here. You can take reference from LeNet code.\n",
    "\n",
    "If you do not get higher accuracy, here are a few hints:\n",
    "- Try to add more convolutional layers to the architecture\n",
    "- Try to add more nodes in the layers.\n"
   ]
  },
  {
   "cell_type": "code",
   "execution_count": 5,
   "metadata": {
    "collapsed": true
   },
   "outputs": [],
   "source": [
    "class MyModel(nn.Module):\n",
    "    def __init__(self):\n",
    "        super(MyModel, self).__init__()\n",
    "        \n",
    "        # First convolutional layer: 3 input channels (RGB), 32 output channels, 3x3 kernel, padding=1\n",
    "        self.conv1 = nn.Conv2d(in_channels=3, out_channels=32, kernel_size=3, padding=1)\n",
    "        # Batch normalization for the first convolutional layer\n",
    "        self.bn1 = nn.BatchNorm2d(32)\n",
    "        \n",
    "        # Second convolutional layer: 32 input channels, 64 output channels, 3x3 kernel, padding=1\n",
    "        self.conv2 = nn.Conv2d(in_channels=32, out_channels=64, kernel_size=3, padding=1)\n",
    "        # Batch normalization for the second convolutional layer\n",
    "        self.bn2 = nn.BatchNorm2d(64)\n",
    "        \n",
    "        # Third convolutional layer: 64 input channels, 128 output channels, 3x3 kernel, padding=1\n",
    "        self.conv3 = nn.Conv2d(in_channels=64, out_channels=128, kernel_size=3, padding=1)\n",
    "        # Batch normalization for the third convolutional layer\n",
    "        self.bn3 = nn.BatchNorm2d(128)\n",
    "        \n",
    "        # Max pooling layer: 2x2 kernel, stride=2\n",
    "        self.pool = nn.MaxPool2d(kernel_size=2, stride=2, padding=0)\n",
    "        \n",
    "        # Fully connected layer: input size 128*4*4 (flattened feature map), output size 512\n",
    "        self.fc1 = nn.Linear(128 * 4 * 4, 512)\n",
    "        # Fully connected layer: input size 512, output size 10 (number of classes in CIFAR10)\n",
    "        self.fc2 = nn.Linear(512, 10)\n",
    "        \n",
    "    def forward(self, x):\n",
    "        # Apply first convolutional layer, followed by ReLU activation, batch normalization, and max pooling\n",
    "        x = self.pool(F.relu(self.bn1(self.conv1(x))))\n",
    "        \n",
    "        # Apply second convolutional layer, followed by ReLU activation, batch normalization, and max pooling\n",
    "        x = self.pool(F.relu(self.bn2(self.conv2(x))))\n",
    "        \n",
    "        # Apply third convolutional layer, followed by ReLU activation, batch normalization, and max pooling\n",
    "        x = self.pool(F.relu(self.bn3(self.conv3(x))))\n",
    "        \n",
    "        # Flatten the tensor to prepare it for the fully connected layers\n",
    "        x = x.view(-1, 128 * 4 * 4)\n",
    "        \n",
    "        # Apply first fully connected layer followed by ReLU activation\n",
    "        x = F.relu(self.fc1(x))\n",
    "        \n",
    "        # Apply second fully connected layer to get the final output\n",
    "        x = self.fc2(x)\n",
    "        \n",
    "        return x"
   ]
  },
  {
   "cell_type": "markdown",
   "metadata": {
    "deletable": false,
    "editable": false,
    "nbgrader": {
     "grade": false,
     "locked": true,
     "solution": false
    }
   },
   "source": [
    "# <font style=\"color:blue\">2. Display the Network</font>"
   ]
  },
  {
   "cell_type": "code",
   "execution_count": 6,
   "metadata": {
    "deletable": false,
    "editable": false,
    "nbgrader": {
     "grade": false,
     "locked": true,
     "solution": false
    }
   },
   "outputs": [
    {
     "name": "stdout",
     "output_type": "stream",
     "text": [
      "MyModel(\n",
      "  (conv1): Conv2d(3, 32, kernel_size=(3, 3), stride=(1, 1), padding=(1, 1))\n",
      "  (bn1): BatchNorm2d(32, eps=1e-05, momentum=0.1, affine=True, track_running_stats=True)\n",
      "  (conv2): Conv2d(32, 64, kernel_size=(3, 3), stride=(1, 1), padding=(1, 1))\n",
      "  (bn2): BatchNorm2d(64, eps=1e-05, momentum=0.1, affine=True, track_running_stats=True)\n",
      "  (conv3): Conv2d(64, 128, kernel_size=(3, 3), stride=(1, 1), padding=(1, 1))\n",
      "  (bn3): BatchNorm2d(128, eps=1e-05, momentum=0.1, affine=True, track_running_stats=True)\n",
      "  (pool): MaxPool2d(kernel_size=2, stride=2, padding=0, dilation=1, ceil_mode=False)\n",
      "  (fc1): Linear(in_features=2048, out_features=512, bias=True)\n",
      "  (fc2): Linear(in_features=512, out_features=10, bias=True)\n",
      ")\n"
     ]
    }
   ],
   "source": [
    "my_model = MyModel()\n",
    "print(my_model)"
   ]
  },
  {
   "cell_type": "code",
   "execution_count": null,
   "metadata": {
    "collapsed": true,
    "deletable": false,
    "editable": false,
    "nbgrader": {
     "grade": true,
     "grade_id": "Conv2d",
     "locked": true,
     "points": "3",
     "solution": false
    }
   },
   "outputs": [],
   "source": [
    "###\n",
    "### AUTOGRADER TEST - DO NOT REMOVE\n",
    "###\n"
   ]
  },
  {
   "cell_type": "code",
   "execution_count": null,
   "metadata": {
    "collapsed": true,
    "deletable": false,
    "editable": false,
    "nbgrader": {
     "grade": true,
     "grade_id": "BatchNorm2d",
     "locked": true,
     "points": "2",
     "solution": false
    }
   },
   "outputs": [],
   "source": [
    "###\n",
    "### AUTOGRADER TEST - DO NOT REMOVE\n",
    "###\n"
   ]
  },
  {
   "cell_type": "code",
   "execution_count": null,
   "metadata": {
    "collapsed": true,
    "deletable": false,
    "editable": false,
    "nbgrader": {
     "grade": true,
     "grade_id": "ReLU",
     "locked": true,
     "points": "2",
     "solution": false
    }
   },
   "outputs": [],
   "source": [
    "###\n",
    "### AUTOGRADER TEST - DO NOT REMOVE\n",
    "###\n"
   ]
  },
  {
   "cell_type": "code",
   "execution_count": null,
   "metadata": {
    "collapsed": true,
    "deletable": false,
    "editable": false,
    "nbgrader": {
     "grade": true,
     "grade_id": "input-output",
     "locked": true,
     "points": "3",
     "solution": false
    }
   },
   "outputs": [],
   "source": [
    "###\n",
    "### AUTOGRADER TEST - DO NOT REMOVE\n",
    "###\n"
   ]
  },
  {
   "cell_type": "markdown",
   "metadata": {
    "deletable": false,
    "editable": false,
    "lines_to_next_cell": 2,
    "nbgrader": {
     "grade": false,
     "locked": true,
     "solution": false
    }
   },
   "source": [
    "# <font style=\"color:blue\">3. Find Mean and STD of CIFAR10 Data [5 Points]</font>\n",
    "\n",
    "Function **`get_mean_std_train_data`** should `return` `mean` and `std` of training data. You can refer to the code used in the previous section for finding the mean and std of the training data.\n",
    "\n"
   ]
  },
  {
   "cell_type": "code",
   "execution_count": 7,
   "metadata": {
    "collapsed": true,
    "nbgrader": {
     "grade": false,
     "locked": false,
     "solution": false
    }
   },
   "outputs": [],
   "source": [
    "def get_mean_std_train_data(data_root):\n",
    "    # Define a transform to convert the images to tensors\n",
    "    train_transform = transforms.Compose([transforms.ToTensor()])\n",
    "    \n",
    "    # Load the CIFAR10 training dataset\n",
    "    train_set = datasets.CIFAR10(root=data_root, train=True, download=True, transform=train_transform)\n",
    "    \n",
    "    # Initialize variables to store the sum and sum of squares of pixel values\n",
    "    mean = 0.0\n",
    "    std = 0.0\n",
    "    num_samples = 0\n",
    "    \n",
    "    # Iterate over the dataset to compute the mean and standard deviation\n",
    "    for data in train_set:\n",
    "        image = data[0]\n",
    "        mean += image.mean([1, 2])\n",
    "        std += image.std([1, 2])\n",
    "        num_samples += 1\n",
    "    \n",
    "    # Compute the mean and standard deviation\n",
    "    mean /= num_samples\n",
    "    std /= num_samples\n",
    "    \n",
    "    # Convert to numpy arrays\n",
    "    mean = mean.numpy()\n",
    "    std = std.numpy()\n",
    "    \n",
    "    return mean, std"
   ]
  },
  {
   "cell_type": "code",
   "execution_count": null,
   "metadata": {
    "collapsed": true,
    "deletable": false,
    "editable": false,
    "lines_to_next_cell": 2,
    "nbgrader": {
     "grade": true,
     "grade_id": "mean",
     "locked": true,
     "points": "2",
     "solution": false
    }
   },
   "outputs": [],
   "source": [
    "###\n",
    "### AUTOGRADER TEST - DO NOT REMOVE\n",
    "###\n"
   ]
  },
  {
   "cell_type": "code",
   "execution_count": null,
   "metadata": {
    "collapsed": true,
    "deletable": false,
    "editable": false,
    "lines_to_next_cell": 2,
    "nbgrader": {
     "grade": true,
     "grade_id": "std",
     "locked": true,
     "points": "3",
     "solution": false
    }
   },
   "outputs": [],
   "source": [
    "###\n",
    "### AUTOGRADER TEST - DO NOT REMOVE\n",
    "###\n"
   ]
  },
  {
   "cell_type": "code",
   "execution_count": 8,
   "metadata": {
    "collapsed": true,
    "deletable": false,
    "editable": false,
    "nbgrader": {
     "grade": false,
     "locked": true,
     "solution": false
    }
   },
   "outputs": [],
   "source": [
    "def get_data(batch_size, data_root, num_workers=1):\n",
    "    \n",
    "    \n",
    "    try:\n",
    "        mean, std = get_mean_std_train_data(data_root)\n",
    "        assert len(mean) == len(std) == 3\n",
    "    except:\n",
    "        mean = np.array([0.5, 0.5, 0.5])\n",
    "        std = np.array([0.5, 0.5, 0.5])\n",
    "        \n",
    "    \n",
    "    train_test_transforms = transforms.Compose([\n",
    "        # this re-scale image tensor values between 0-1. image_tensor /= 255\n",
    "        transforms.ToTensor(),\n",
    "        # subtract mean and divide by variance.\n",
    "        transforms.Normalize(mean, std)\n",
    "    ])\n",
    "    \n",
    "    # train dataloader\n",
    "    train_loader = torch.utils.data.DataLoader(\n",
    "        datasets.CIFAR10(root=data_root, train=True, download=False, transform=train_test_transforms),\n",
    "        batch_size=batch_size,\n",
    "        shuffle=True,\n",
    "        num_workers=num_workers\n",
    "    )\n",
    "    \n",
    "    # test dataloader\n",
    "    test_loader = torch.utils.data.DataLoader(\n",
    "        datasets.CIFAR10(root=data_root, train=False, download=False, transform=train_test_transforms),\n",
    "        batch_size=batch_size,\n",
    "        shuffle=False,\n",
    "        num_workers=num_workers\n",
    "    )\n",
    "    return train_loader, test_loader"
   ]
  },
  {
   "cell_type": "markdown",
   "metadata": {
    "deletable": false,
    "editable": false,
    "nbgrader": {
     "grade": false,
     "locked": true,
     "solution": false
    }
   },
   "source": [
    "# <font style=\"color:blue\">4. System Configuration</font>\n"
   ]
  },
  {
   "cell_type": "code",
   "execution_count": 9,
   "metadata": {
    "collapsed": true,
    "deletable": false,
    "editable": false,
    "nbgrader": {
     "grade": false,
     "locked": true,
     "solution": false
    }
   },
   "outputs": [],
   "source": [
    "@dataclass\n",
    "class SystemConfiguration:\n",
    "    '''\n",
    "    Describes the common system setting needed for reproducible training\n",
    "    '''\n",
    "    seed: int = 42  # seed number to set the state of all random number generators\n",
    "    cudnn_benchmark_enabled: bool = True  # enable CuDNN benchmark for the sake of performance\n",
    "    cudnn_deterministic: bool = True  # make cudnn deterministic (reproducible training)"
   ]
  },
  {
   "cell_type": "markdown",
   "metadata": {
    "deletable": false,
    "editable": false,
    "nbgrader": {
     "grade": false,
     "locked": true,
     "solution": false
    }
   },
   "source": [
    "# <font style=\"color:blue\">5. Training Configuration [15 Points]</font>\n",
    "All training parameters are defined here. So, \n",
    "This is where you can improve your accuracy, apart from improving the architecture. \n",
    "\n",
    "Here are a few hints on how you can improve the accuracy:\n",
    "- Train for longer duration\n",
    "- Try with different learning rate\n",
    "\n",
    "**You need to achieve 75% accuracy in order to get full marks for this part.**\n",
    "\n",
    "**You will see the effect of these changes when you run Step 11**"
   ]
  },
  {
   "cell_type": "code",
   "execution_count": null,
   "metadata": {
    "collapsed": true,
    "nbgrader": {
     "grade": false,
     "locked": false,
     "solution": false
    }
   },
   "outputs": [],
   "source": [
    "@dataclass\n",
    "class TrainingConfiguration:\n",
    "    '''\n",
    "    Describes configuration of the training process\n",
    "    '''\n",
    "    batch_size: int = 16  # amount of data to pass through the network at each forward-backward iteration\n",
    "    epochs_count: int = 2  # number of times the whole dataset will be passed through the network\n",
    "    learning_rate: float = 0.1  # determines the speed of network's weights update\n",
    "        \n",
    "    log_interval: int = 100  # how many batches to wait between logging training status\n",
    "    test_interval: int = 1  # how many epochs to wait before another test. Set to 1 to get val loss at each epoch\n",
    "    data_root: str = \"../resource/lib/publicdata/images\"  # folder to save data\n",
    "    num_workers: int = 10  # number of concurrent processes using to prepare data\n",
    "    device: str = 'cuda'  # device to use for training.\n",
    "    # update changed parameters in blow coding block.\n",
    "    # Please do not change \"data_root\" \n",
    "    \n",
    "    ###\n",
    "    momentum: float = 0.9  # Momentum for the SGD optimizer\n",
    "    weight_decay: float = 1e-4  # Weight decay for the optimizer\n",
    "    lr_scheduler_step_size: int = 10  # Step size for the learning rate scheduler\n",
    "    lr_scheduler_gamma: float = 0.1  # Multiplicative factor of learning rate decay\n",
    "    random_seed: int = 42  # Random seed for reproducibility\n",
    "    model_save_path: str = \"./model.pth\"  # Path to save the trained model\n",
    "    ###\n"
   ]
  },
  {
   "cell_type": "code",
   "execution_count": 10,
   "metadata": {
    "collapsed": true
   },
   "outputs": [],
   "source": [
    "@dataclass\n",
    "class TrainingConfiguration:\n",
    "    '''\n",
    "    Describes configuration of the training process\n",
    "    '''\n",
    "    batch_size: int = 64  # Amount of data to pass through the network at each forward-backward iteration\n",
    "    epochs_count: int = 50  # Number of times the whole dataset will be passed through the network\n",
    "    learning_rate: float = 0.01  # Determines the speed of network's weights update\n",
    "        \n",
    "    log_interval: int = 100  # How many batches to wait between logging training status\n",
    "    test_interval: int = 1  # How many epochs to wait before another test. Set to 1 to get val loss at each epoch\n",
    "    data_root: str = \"../resource/lib/publicdata/images\"  # Folder to save data\n",
    "    num_workers: int = 4  # Number of concurrent processes using to prepare data\n",
    "    device: str = 'cuda'  # Device to use for training. Use 'cuda' for GPU or 'cpu' for CPU\n",
    "    \n",
    "    momentum: float = 0.9  # Momentum for the SGD optimizer\n",
    "    weight_decay: float = 5e-4  # Weight decay for the optimizer\n",
    "    lr_scheduler_step_size: int = 20  # Step size for the learning rate scheduler\n",
    "    lr_scheduler_gamma: float = 0.1  # Multiplicative factor of learning rate decay\n",
    "    random_seed: int = 42  # Random seed for reproducibility\n",
    "    model_save_path: str = \"./model.pth\"  # Path to save the trained model"
   ]
  },
  {
   "cell_type": "markdown",
   "metadata": {
    "deletable": false,
    "editable": false,
    "nbgrader": {
     "grade": false,
     "locked": true,
     "solution": false
    }
   },
   "source": [
    "# <font style=\"color:blue\">6. System Setup</font>\n"
   ]
  },
  {
   "cell_type": "code",
   "execution_count": 11,
   "metadata": {
    "collapsed": true,
    "deletable": false,
    "editable": false,
    "nbgrader": {
     "grade": false,
     "locked": true,
     "solution": false
    }
   },
   "outputs": [],
   "source": [
    "def setup_system(system_config: SystemConfiguration) -> None:\n",
    "    torch.manual_seed(system_config.seed)\n",
    "    if torch.cuda.is_available():\n",
    "        torch.backends.cudnn_benchmark_enabled = system_config.cudnn_benchmark_enabled\n",
    "        torch.backends.cudnn.deterministic = system_config.cudnn_deterministic"
   ]
  },
  {
   "cell_type": "markdown",
   "metadata": {
    "deletable": false,
    "editable": false,
    "nbgrader": {
     "grade": false,
     "locked": true,
     "solution": false
    }
   },
   "source": [
    "# <font style=\"color:blue\">7. Training</font>\n",
    "We are familiar with the training pipeline used in PyTorch. The following steps are performed in the code below:\n",
    "\n",
    "1. Send the data to the required device ( CPU/GPU )\n",
    "1. Make a forward pass using the forward method.\n",
    "1. Find the loss using the Cross_Entropy function.\n",
    "1. Find the gradients using the backward function.\n",
    "1. Update the weights using the optimizer.\n",
    "1. Find the accuracy of the model\n",
    "\n",
    "Repeat the above for the specified number of epochs."
   ]
  },
  {
   "cell_type": "code",
   "execution_count": 12,
   "metadata": {
    "collapsed": true,
    "deletable": false,
    "editable": false,
    "nbgrader": {
     "grade": false,
     "locked": true,
     "solution": false
    }
   },
   "outputs": [],
   "source": [
    "def train(\n",
    "    train_config: TrainingConfiguration, model: nn.Module, optimizer: torch.optim.Optimizer,\n",
    "    train_loader: torch.utils.data.DataLoader, epoch_idx: int\n",
    ") -> None:\n",
    "    \n",
    "    # change model in training mood\n",
    "    model.train()\n",
    "    \n",
    "    # to get batch loss\n",
    "    batch_loss = np.array([])\n",
    "    \n",
    "    # to get batch accuracy\n",
    "    batch_acc = np.array([])\n",
    "        \n",
    "    for batch_idx, (data, target) in enumerate(train_loader):\n",
    "        \n",
    "        # clone target\n",
    "        indx_target = target.clone()\n",
    "        # send data to device (its is medatory if GPU has to be used)\n",
    "        data = data.to(train_config.device)\n",
    "        # send target to device\n",
    "        target = target.to(train_config.device)\n",
    "\n",
    "        # reset parameters gradient to zero\n",
    "        optimizer.zero_grad()\n",
    "        \n",
    "        # forward pass to the model\n",
    "        output = model(data)\n",
    "        \n",
    "        # cross entropy loss\n",
    "        loss = F.cross_entropy(output, target)\n",
    "        \n",
    "        # find gradients w.r.t training parameters\n",
    "        loss.backward()\n",
    "        # Update parameters using gardients\n",
    "        optimizer.step()\n",
    "        \n",
    "        batch_loss = np.append(batch_loss, [loss.item()])\n",
    "        \n",
    "        # Score to probability using softmax\n",
    "        prob = F.softmax(output, dim=1)\n",
    "            \n",
    "        # get the index of the max probability\n",
    "        pred = prob.data.max(dim=1)[1]  \n",
    "                        \n",
    "        # correct prediction\n",
    "        correct = pred.cpu().eq(indx_target).sum()\n",
    "            \n",
    "        # accuracy\n",
    "        acc = float(correct) / float(len(data))\n",
    "        \n",
    "        batch_acc = np.append(batch_acc, [acc])\n",
    "\n",
    "        if batch_idx % train_config.log_interval == 0 and batch_idx > 0:              \n",
    "            print(\n",
    "                'Train Epoch: {} [{}/{}] Loss: {:.6f} Acc: {:.4f}'.format(\n",
    "                    epoch_idx, batch_idx * len(data), len(train_loader.dataset), loss.item(), acc\n",
    "                )\n",
    "            )\n",
    "            \n",
    "    epoch_loss = batch_loss.mean()\n",
    "    epoch_acc = batch_acc.mean()\n",
    "    return epoch_loss, epoch_acc"
   ]
  },
  {
   "cell_type": "markdown",
   "metadata": {
    "deletable": false,
    "editable": false,
    "nbgrader": {
     "grade": false,
     "locked": true,
     "solution": false
    }
   },
   "source": [
    "# <font style=\"color:blue\">8. Validation</font>\n",
    "\n",
    "After every few epochs **`validation`** will be called with the `trained model` and `test_loader` to get validation loss and accuracy."
   ]
  },
  {
   "cell_type": "code",
   "execution_count": 13,
   "metadata": {
    "collapsed": true,
    "deletable": false,
    "editable": false,
    "nbgrader": {
     "grade": false,
     "locked": true,
     "solution": false
    }
   },
   "outputs": [],
   "source": [
    "def validate(\n",
    "    train_config: TrainingConfiguration,\n",
    "    model: nn.Module,\n",
    "    test_loader: torch.utils.data.DataLoader,\n",
    ") -> float:\n",
    "    model.eval()\n",
    "    test_loss = 0\n",
    "    count_corect_predictions = 0\n",
    "    for data, target in test_loader:\n",
    "        indx_target = target.clone()\n",
    "        data = data.to(train_config.device)\n",
    "        \n",
    "        target = target.to(train_config.device)\n",
    "        \n",
    "        output = model(data)\n",
    "        # add loss for each mini batch\n",
    "        test_loss += F.cross_entropy(output, target).item()\n",
    "        \n",
    "        # Score to probability using softmax\n",
    "        prob = F.softmax(output, dim=1)\n",
    "        \n",
    "        # get the index of the max probability\n",
    "        pred = prob.data.max(dim=1)[1] \n",
    "        \n",
    "        # add correct prediction count\n",
    "        count_corect_predictions += pred.cpu().eq(indx_target).sum()\n",
    "\n",
    "    # average over number of mini-batches\n",
    "    test_loss = test_loss / len(test_loader)  \n",
    "    \n",
    "    # average over number of dataset\n",
    "    accuracy = 100. * count_corect_predictions / len(test_loader.dataset)\n",
    "    \n",
    "    print(\n",
    "        '\\nTest set: Average loss: {:.4f}, Accuracy: {}/{} ({:.0f}%)\\n'.format(\n",
    "            test_loss, count_corect_predictions, len(test_loader.dataset), accuracy\n",
    "        )\n",
    "    )\n",
    "    return test_loss, accuracy/100.0"
   ]
  },
  {
   "cell_type": "markdown",
   "metadata": {
    "deletable": false,
    "editable": false,
    "nbgrader": {
     "grade": false,
     "locked": true,
     "solution": false
    }
   },
   "source": [
    "# <font style=\"color:blue\">9. Saving the Model</font>"
   ]
  },
  {
   "cell_type": "code",
   "execution_count": 14,
   "metadata": {
    "collapsed": true,
    "deletable": false,
    "editable": false,
    "nbgrader": {
     "grade": false,
     "locked": true,
     "solution": false
    }
   },
   "outputs": [],
   "source": [
    "def save_model(model, device, model_dir='models', model_file_name='cifar10_cnn_model.pt'):\n",
    "    \n",
    "\n",
    "    if not os.path.exists(model_dir):\n",
    "        os.makedirs(model_dir)\n",
    "\n",
    "    model_path = os.path.join(model_dir, model_file_name)\n",
    "\n",
    "    # make sure you transfer the model to cpu.\n",
    "    if device == 'cuda':\n",
    "        model.to('cpu')\n",
    "\n",
    "    # save the state_dict\n",
    "    if int(torch.__version__.split('.')[1]) >= 6:\n",
    "        torch.save(model.state_dict(), model_path, _use_new_zipfile_serialization=False)\n",
    "    \n",
    "    else:\n",
    "        torch.save(model.state_dict(), model_path)\n",
    "    \n",
    "    if device == 'cuda':\n",
    "        model.to('cuda')\n",
    "    \n",
    "    return"
   ]
  },
  {
   "cell_type": "markdown",
   "metadata": {
    "deletable": false,
    "editable": false,
    "nbgrader": {
     "grade": false,
     "locked": true,
     "solution": false
    }
   },
   "source": [
    "# <font style=\"color:blue\">10. Main</font>\n",
    "\n",
    "In this section of code, we use the configuration parameters defined above and start the training. Here are the important actions being taken in the code below:\n",
    "\n",
    "1. Set up system parameters like CPU/GPU, number of threads etc\n",
    "1. Load the data using dataloaders\n",
    "1. Create an instance of the LeNet model\n",
    "1. Specify optimizer to use.\n",
    "1. Set up variables to track loss and accuracy and start training.\n",
    "1. If loss decreases, saving the model"
   ]
  },
  {
   "cell_type": "code",
   "execution_count": 17,
   "metadata": {
    "collapsed": true,
    "deletable": false,
    "editable": false,
    "nbgrader": {
     "grade": false,
     "locked": true,
     "solution": false
    }
   },
   "outputs": [],
   "source": [
    "def main(system_configuration=SystemConfiguration(), training_configuration=TrainingConfiguration()):\n",
    "    \n",
    "    # system configuration\n",
    "    setup_system(system_configuration)\n",
    "\n",
    "    # batch size\n",
    "    batch_size_to_set = training_configuration.batch_size\n",
    "    # num_workers\n",
    "    num_workers_to_set = training_configuration.num_workers\n",
    "    # epochs\n",
    "    epoch_num_to_set = training_configuration.epochs_count\n",
    "\n",
    "    # if GPU is available use training config, \n",
    "    # else lowers batch_size, num_workers and epochs count\n",
    "    if torch.cuda.is_available():\n",
    "        device = \"cuda\"\n",
    "        print(\"Using CUDA 🥁\")\n",
    "    else:\n",
    "        device = \"cpu\"\n",
    "        num_workers_to_set = 2\n",
    "\n",
    "    # data loader\n",
    "    train_loader, test_loader = get_data(\n",
    "        batch_size=training_configuration.batch_size,\n",
    "        data_root=training_configuration.data_root,\n",
    "        num_workers=num_workers_to_set\n",
    "    )\n",
    "    \n",
    "    # Update training configuration\n",
    "    training_configuration = TrainingConfiguration(\n",
    "        device=device,\n",
    "        num_workers=num_workers_to_set\n",
    "    )\n",
    "\n",
    "    # initiate model\n",
    "    model = MyModel()\n",
    "        \n",
    "    # send model to device (GPU/CPU)\n",
    "    model.to(training_configuration.device)\n",
    "\n",
    "    # optimizer\n",
    "    optimizer = optim.SGD(\n",
    "        model.parameters(),\n",
    "        lr=training_configuration.learning_rate\n",
    "    )\n",
    "\n",
    "    best_loss = torch.tensor(np.inf)\n",
    "    best_accuracy = torch.tensor(0)\n",
    "    \n",
    "    # epoch train/test loss\n",
    "    epoch_train_loss = np.array([])\n",
    "    epoch_test_loss = np.array([])\n",
    "    \n",
    "    # epch train/test accuracy\n",
    "    epoch_train_acc = np.array([])\n",
    "    epoch_test_acc = np.array([])\n",
    "    \n",
    "    # trainig time measurement\n",
    "    t_begin = time.time()\n",
    "    for epoch in range(training_configuration.epochs_count):\n",
    "        \n",
    "        train_loss, train_acc = train(training_configuration, model, optimizer, train_loader, epoch)\n",
    "        \n",
    "        epoch_train_loss = np.append(epoch_train_loss, [train_loss])\n",
    "        \n",
    "        epoch_train_acc = np.append(epoch_train_acc, [train_acc])\n",
    "\n",
    "        elapsed_time = time.time() - t_begin\n",
    "        speed_epoch = elapsed_time / (epoch + 1)\n",
    "        speed_batch = speed_epoch / len(train_loader)\n",
    "        eta = speed_epoch * training_configuration.epochs_count - elapsed_time\n",
    "        \n",
    "        print(\n",
    "            \"Elapsed {:.2f}s, {:.2f} s/epoch, {:.2f} s/batch, ets {:.2f}s\".format(\n",
    "                elapsed_time, speed_epoch, speed_batch, eta\n",
    "            )\n",
    "        )\n",
    "\n",
    "        if epoch % training_configuration.test_interval == 0:\n",
    "            current_loss, current_accuracy = validate(training_configuration, model, test_loader)\n",
    "            \n",
    "            epoch_test_loss = np.append(epoch_test_loss, [current_loss])\n",
    "        \n",
    "            epoch_test_acc = np.append(epoch_test_acc, [current_accuracy])\n",
    "            \n",
    "            if current_loss < best_loss:\n",
    "                best_loss = current_loss\n",
    "            \n",
    "            if current_accuracy > best_accuracy:\n",
    "                best_accuracy = current_accuracy\n",
    "                print('Accuracy improved, saving the model.\\n')\n",
    "                save_model(model, device)\n",
    "            \n",
    "                \n",
    "    print(\"Total time: {:.2f}, Best Loss: {:.3f}, Best Accuracy: {:.3f}\".format(time.time() - t_begin, best_loss, \n",
    "                                                                                best_accuracy))\n",
    "    \n",
    "    return model, epoch_train_loss, epoch_train_acc, epoch_test_loss, epoch_test_acc"
   ]
  },
  {
   "cell_type": "code",
   "execution_count": null,
   "metadata": {
    "collapsed": true,
    "deletable": false,
    "editable": false,
    "nbgrader": {
     "grade": true,
     "grade_id": "Accuracy",
     "locked": true,
     "points": "15",
     "solution": false
    }
   },
   "outputs": [],
   "source": [
    "###\n",
    "### AUTOGRADER TEST - DO NOT REMOVE\n",
    "###\n"
   ]
  },
  {
   "cell_type": "markdown",
   "metadata": {},
   "source": [
    "# <font style=\"color:blue\">Step 11: Start Training</font>\n",
    "This is where you start the training. You may see that the training does not converge or does not give a good accuracy. You need to change \n",
    "- In Step 1: the network architecture and add a few more layers or more nodes to the already existing layers\n",
    "- In Step 5: training parameters such as learning rate or batch_size or epochs so that the network converges or run the network for longer so that it gets more time to fit the data\n",
    "\n",
    "**You need to make sure that the accuracy at the end is at least 75%.**"
   ]
  },
  {
   "cell_type": "code",
   "execution_count": 18,
   "metadata": {
    "deletable": false,
    "editable": false,
    "nbgrader": {
     "grade": false,
     "locked": true,
     "solution": false
    },
    "scrolled": true
   },
   "outputs": [
    {
     "name": "stdout",
     "output_type": "stream",
     "text": [
      "Using CUDA 🥁\n",
      "Downloading https://www.cs.toronto.edu/~kriz/cifar-10-python.tar.gz to ../resource/lib/publicdata/images\\cifar-10-python.tar.gz\n"
     ]
    },
    {
     "name": "stderr",
     "output_type": "stream",
     "text": [
      "100%|██████████| 170498071/170498071 [02:59<00:00, 947798.65it/s] \n"
     ]
    },
    {
     "name": "stdout",
     "output_type": "stream",
     "text": [
      "Extracting ../resource/lib/publicdata/images\\cifar-10-python.tar.gz to ../resource/lib/publicdata/images\n",
      "Train Epoch: 0 [6400/50000] Loss: 1.655850 Acc: 0.4375\n",
      "Train Epoch: 0 [12800/50000] Loss: 1.478336 Acc: 0.4375\n",
      "Train Epoch: 0 [19200/50000] Loss: 1.560504 Acc: 0.4375\n",
      "Train Epoch: 0 [25600/50000] Loss: 1.402002 Acc: 0.5156\n",
      "Train Epoch: 0 [32000/50000] Loss: 1.017631 Acc: 0.6875\n",
      "Train Epoch: 0 [38400/50000] Loss: 1.065221 Acc: 0.5781\n",
      "Train Epoch: 0 [44800/50000] Loss: 1.269445 Acc: 0.5938\n",
      "Elapsed 19.96s, 19.96 s/epoch, 0.03 s/batch, ets 978.18s\n",
      "\n",
      "Test set: Average loss: 1.2232, Accuracy: 5572/10000 (56%)\n",
      "\n",
      "Accuracy improved, saving the model.\n",
      "\n",
      "Train Epoch: 1 [6400/50000] Loss: 1.207855 Acc: 0.6250\n",
      "Train Epoch: 1 [12800/50000] Loss: 1.224717 Acc: 0.5938\n",
      "Train Epoch: 1 [19200/50000] Loss: 0.977439 Acc: 0.7031\n",
      "Train Epoch: 1 [25600/50000] Loss: 1.094806 Acc: 0.5938\n",
      "Train Epoch: 1 [32000/50000] Loss: 1.091756 Acc: 0.5938\n",
      "Train Epoch: 1 [38400/50000] Loss: 0.954634 Acc: 0.6719\n",
      "Train Epoch: 1 [44800/50000] Loss: 0.938403 Acc: 0.6719\n",
      "Elapsed 52.81s, 26.40 s/epoch, 0.03 s/batch, ets 1267.34s\n",
      "\n",
      "Test set: Average loss: 1.0544, Accuracy: 6305/10000 (63%)\n",
      "\n",
      "Accuracy improved, saving the model.\n",
      "\n",
      "Train Epoch: 2 [6400/50000] Loss: 1.128108 Acc: 0.5938\n",
      "Train Epoch: 2 [12800/50000] Loss: 1.007844 Acc: 0.6406\n",
      "Train Epoch: 2 [19200/50000] Loss: 0.786525 Acc: 0.6719\n",
      "Train Epoch: 2 [25600/50000] Loss: 0.851126 Acc: 0.7188\n",
      "Train Epoch: 2 [32000/50000] Loss: 0.778816 Acc: 0.7031\n",
      "Train Epoch: 2 [38400/50000] Loss: 0.999153 Acc: 0.6562\n",
      "Train Epoch: 2 [44800/50000] Loss: 0.948837 Acc: 0.6875\n",
      "Elapsed 85.69s, 28.56 s/epoch, 0.04 s/batch, ets 1342.52s\n",
      "\n",
      "Test set: Average loss: 0.9401, Accuracy: 6689/10000 (67%)\n",
      "\n",
      "Accuracy improved, saving the model.\n",
      "\n",
      "Train Epoch: 3 [6400/50000] Loss: 0.727261 Acc: 0.7656\n",
      "Train Epoch: 3 [12800/50000] Loss: 0.553689 Acc: 0.8125\n",
      "Train Epoch: 3 [19200/50000] Loss: 0.735540 Acc: 0.7344\n",
      "Train Epoch: 3 [25600/50000] Loss: 0.855530 Acc: 0.7188\n",
      "Train Epoch: 3 [32000/50000] Loss: 0.819329 Acc: 0.7031\n",
      "Train Epoch: 3 [38400/50000] Loss: 0.708697 Acc: 0.7969\n",
      "Train Epoch: 3 [44800/50000] Loss: 0.928910 Acc: 0.6562\n",
      "Elapsed 118.73s, 29.68 s/epoch, 0.04 s/batch, ets 1365.45s\n",
      "\n",
      "Test set: Average loss: 1.0517, Accuracy: 6347/10000 (63%)\n",
      "\n",
      "Train Epoch: 4 [6400/50000] Loss: 0.573466 Acc: 0.7969\n",
      "Train Epoch: 4 [12800/50000] Loss: 0.782506 Acc: 0.7031\n",
      "Train Epoch: 4 [19200/50000] Loss: 0.735248 Acc: 0.7031\n",
      "Train Epoch: 4 [25600/50000] Loss: 0.672130 Acc: 0.7656\n",
      "Train Epoch: 4 [32000/50000] Loss: 0.733577 Acc: 0.7500\n",
      "Train Epoch: 4 [38400/50000] Loss: 0.783293 Acc: 0.7500\n",
      "Train Epoch: 4 [44800/50000] Loss: 0.902708 Acc: 0.6719\n",
      "Elapsed 151.48s, 30.30 s/epoch, 0.04 s/batch, ets 1363.34s\n",
      "\n",
      "Test set: Average loss: 0.9112, Accuracy: 6805/10000 (68%)\n",
      "\n",
      "Accuracy improved, saving the model.\n",
      "\n",
      "Train Epoch: 5 [6400/50000] Loss: 0.548348 Acc: 0.8125\n",
      "Train Epoch: 5 [12800/50000] Loss: 0.591270 Acc: 0.7969\n",
      "Train Epoch: 5 [19200/50000] Loss: 0.927165 Acc: 0.6875\n",
      "Train Epoch: 5 [25600/50000] Loss: 0.582339 Acc: 0.7812\n",
      "Train Epoch: 5 [32000/50000] Loss: 0.780082 Acc: 0.7188\n",
      "Train Epoch: 5 [38400/50000] Loss: 0.790937 Acc: 0.6719\n",
      "Train Epoch: 5 [44800/50000] Loss: 0.735258 Acc: 0.7500\n",
      "Elapsed 184.14s, 30.69 s/epoch, 0.04 s/batch, ets 1350.37s\n",
      "\n",
      "Test set: Average loss: 0.8225, Accuracy: 7274/10000 (73%)\n",
      "\n",
      "Accuracy improved, saving the model.\n",
      "\n",
      "Train Epoch: 6 [6400/50000] Loss: 0.658649 Acc: 0.7656\n",
      "Train Epoch: 6 [12800/50000] Loss: 0.617395 Acc: 0.7656\n",
      "Train Epoch: 6 [19200/50000] Loss: 0.569406 Acc: 0.7969\n",
      "Train Epoch: 6 [25600/50000] Loss: 0.820419 Acc: 0.7188\n",
      "Train Epoch: 6 [32000/50000] Loss: 0.500323 Acc: 0.8750\n",
      "Train Epoch: 6 [38400/50000] Loss: 0.553019 Acc: 0.8281\n",
      "Train Epoch: 6 [44800/50000] Loss: 0.675075 Acc: 0.7500\n",
      "Elapsed 216.92s, 30.99 s/epoch, 0.04 s/batch, ets 1332.53s\n",
      "\n",
      "Test set: Average loss: 1.0544, Accuracy: 6589/10000 (66%)\n",
      "\n",
      "Train Epoch: 7 [6400/50000] Loss: 0.474111 Acc: 0.8750\n",
      "Train Epoch: 7 [12800/50000] Loss: 0.383682 Acc: 0.8594\n",
      "Train Epoch: 7 [19200/50000] Loss: 0.540027 Acc: 0.8281\n",
      "Train Epoch: 7 [25600/50000] Loss: 0.482757 Acc: 0.8438\n",
      "Train Epoch: 7 [32000/50000] Loss: 0.548541 Acc: 0.7812\n",
      "Train Epoch: 7 [38400/50000] Loss: 0.485637 Acc: 0.7969\n",
      "Train Epoch: 7 [44800/50000] Loss: 0.409276 Acc: 0.8750\n",
      "Elapsed 249.69s, 31.21 s/epoch, 0.04 s/batch, ets 1310.89s\n",
      "\n",
      "Test set: Average loss: 1.1035, Accuracy: 6496/10000 (65%)\n",
      "\n",
      "Train Epoch: 8 [6400/50000] Loss: 0.749239 Acc: 0.7969\n",
      "Train Epoch: 8 [12800/50000] Loss: 0.573685 Acc: 0.7812\n",
      "Train Epoch: 8 [19200/50000] Loss: 0.416752 Acc: 0.7969\n",
      "Train Epoch: 8 [25600/50000] Loss: 0.805066 Acc: 0.6719\n",
      "Train Epoch: 8 [32000/50000] Loss: 0.634797 Acc: 0.7812\n",
      "Train Epoch: 8 [38400/50000] Loss: 0.519160 Acc: 0.8281\n",
      "Train Epoch: 8 [44800/50000] Loss: 0.472041 Acc: 0.8438\n",
      "Elapsed 282.79s, 31.42 s/epoch, 0.04 s/batch, ets 1288.27s\n",
      "\n",
      "Test set: Average loss: 1.0502, Accuracy: 6676/10000 (67%)\n",
      "\n",
      "Train Epoch: 9 [6400/50000] Loss: 0.435869 Acc: 0.8594\n",
      "Train Epoch: 9 [12800/50000] Loss: 0.533352 Acc: 0.7656\n",
      "Train Epoch: 9 [19200/50000] Loss: 0.479650 Acc: 0.8281\n",
      "Train Epoch: 9 [25600/50000] Loss: 0.637658 Acc: 0.7656\n",
      "Train Epoch: 9 [32000/50000] Loss: 0.386001 Acc: 0.9062\n",
      "Train Epoch: 9 [38400/50000] Loss: 0.300174 Acc: 0.8906\n",
      "Train Epoch: 9 [44800/50000] Loss: 0.486662 Acc: 0.8438\n",
      "Elapsed 315.81s, 31.58 s/epoch, 0.04 s/batch, ets 1263.22s\n",
      "\n",
      "Test set: Average loss: 0.8248, Accuracy: 7270/10000 (73%)\n",
      "\n",
      "Train Epoch: 10 [6400/50000] Loss: 0.319593 Acc: 0.8906\n",
      "Train Epoch: 10 [12800/50000] Loss: 0.492660 Acc: 0.7812\n",
      "Train Epoch: 10 [19200/50000] Loss: 0.227455 Acc: 0.9219\n",
      "Train Epoch: 10 [25600/50000] Loss: 0.278961 Acc: 0.9375\n",
      "Train Epoch: 10 [32000/50000] Loss: 0.410435 Acc: 0.8438\n",
      "Train Epoch: 10 [38400/50000] Loss: 0.337038 Acc: 0.8750\n",
      "Train Epoch: 10 [44800/50000] Loss: 0.391382 Acc: 0.8750\n",
      "Elapsed 348.49s, 31.68 s/epoch, 0.04 s/batch, ets 1235.57s\n",
      "\n",
      "Test set: Average loss: 0.9656, Accuracy: 6901/10000 (69%)\n",
      "\n",
      "Train Epoch: 11 [6400/50000] Loss: 0.284976 Acc: 0.9219\n",
      "Train Epoch: 11 [12800/50000] Loss: 0.307777 Acc: 0.8906\n",
      "Train Epoch: 11 [19200/50000] Loss: 0.396278 Acc: 0.8438\n",
      "Train Epoch: 11 [25600/50000] Loss: 0.416976 Acc: 0.8594\n",
      "Train Epoch: 11 [32000/50000] Loss: 0.218791 Acc: 0.9375\n",
      "Train Epoch: 11 [38400/50000] Loss: 0.507765 Acc: 0.7812\n",
      "Train Epoch: 11 [44800/50000] Loss: 0.327441 Acc: 0.9219\n",
      "Elapsed 381.12s, 31.76 s/epoch, 0.04 s/batch, ets 1206.88s\n",
      "\n",
      "Test set: Average loss: 0.9039, Accuracy: 7149/10000 (71%)\n",
      "\n",
      "Train Epoch: 12 [6400/50000] Loss: 0.186812 Acc: 0.9531\n",
      "Train Epoch: 12 [12800/50000] Loss: 0.335133 Acc: 0.8594\n",
      "Train Epoch: 12 [19200/50000] Loss: 0.338410 Acc: 0.8906\n",
      "Train Epoch: 12 [25600/50000] Loss: 0.337453 Acc: 0.8906\n",
      "Train Epoch: 12 [32000/50000] Loss: 0.487935 Acc: 0.8438\n",
      "Train Epoch: 12 [38400/50000] Loss: 0.376328 Acc: 0.8750\n",
      "Train Epoch: 12 [44800/50000] Loss: 0.325381 Acc: 0.8906\n",
      "Elapsed 413.83s, 31.83 s/epoch, 0.04 s/batch, ets 1177.83s\n",
      "\n",
      "Test set: Average loss: 0.7439, Accuracy: 7538/10000 (75%)\n",
      "\n",
      "Accuracy improved, saving the model.\n",
      "\n",
      "Train Epoch: 13 [6400/50000] Loss: 0.256927 Acc: 0.8750\n",
      "Train Epoch: 13 [12800/50000] Loss: 0.232302 Acc: 0.9531\n",
      "Train Epoch: 13 [19200/50000] Loss: 0.587833 Acc: 0.7656\n",
      "Train Epoch: 13 [25600/50000] Loss: 0.375796 Acc: 0.8594\n",
      "Train Epoch: 13 [32000/50000] Loss: 0.373309 Acc: 0.8750\n",
      "Train Epoch: 13 [38400/50000] Loss: 0.306540 Acc: 0.8906\n",
      "Train Epoch: 13 [44800/50000] Loss: 0.145280 Acc: 0.9531\n",
      "Elapsed 446.58s, 31.90 s/epoch, 0.04 s/batch, ets 1148.36s\n",
      "\n",
      "Test set: Average loss: 0.9839, Accuracy: 7033/10000 (70%)\n",
      "\n",
      "Train Epoch: 14 [6400/50000] Loss: 0.271756 Acc: 0.9219\n",
      "Train Epoch: 14 [12800/50000] Loss: 0.204864 Acc: 0.9219\n",
      "Train Epoch: 14 [19200/50000] Loss: 0.468156 Acc: 0.8281\n",
      "Train Epoch: 14 [25600/50000] Loss: 0.332742 Acc: 0.8750\n",
      "Train Epoch: 14 [32000/50000] Loss: 0.476684 Acc: 0.8594\n",
      "Train Epoch: 14 [38400/50000] Loss: 0.263964 Acc: 0.8750\n",
      "Train Epoch: 14 [44800/50000] Loss: 0.199863 Acc: 0.9688\n",
      "Elapsed 479.34s, 31.96 s/epoch, 0.04 s/batch, ets 1118.45s\n",
      "\n",
      "Test set: Average loss: 0.7913, Accuracy: 7519/10000 (75%)\n",
      "\n",
      "Train Epoch: 15 [6400/50000] Loss: 0.164834 Acc: 0.9375\n",
      "Train Epoch: 15 [12800/50000] Loss: 0.292649 Acc: 0.8906\n",
      "Train Epoch: 15 [19200/50000] Loss: 0.227674 Acc: 0.9375\n",
      "Train Epoch: 15 [25600/50000] Loss: 0.182885 Acc: 0.9531\n",
      "Train Epoch: 15 [32000/50000] Loss: 0.204513 Acc: 0.8906\n",
      "Train Epoch: 15 [38400/50000] Loss: 0.215180 Acc: 0.9219\n",
      "Train Epoch: 15 [44800/50000] Loss: 0.366512 Acc: 0.8594\n",
      "Elapsed 511.99s, 32.00 s/epoch, 0.04 s/batch, ets 1087.97s\n",
      "\n",
      "Test set: Average loss: 0.7709, Accuracy: 7549/10000 (75%)\n",
      "\n",
      "Accuracy improved, saving the model.\n",
      "\n",
      "Train Epoch: 16 [6400/50000] Loss: 0.218970 Acc: 0.9219\n",
      "Train Epoch: 16 [12800/50000] Loss: 0.195084 Acc: 0.9375\n",
      "Train Epoch: 16 [19200/50000] Loss: 0.216774 Acc: 0.9688\n",
      "Train Epoch: 16 [25600/50000] Loss: 0.104732 Acc: 0.9844\n",
      "Train Epoch: 16 [32000/50000] Loss: 0.172233 Acc: 0.9375\n",
      "Train Epoch: 16 [38400/50000] Loss: 0.261877 Acc: 0.9375\n",
      "Train Epoch: 16 [44800/50000] Loss: 0.330744 Acc: 0.9219\n",
      "Elapsed 544.78s, 32.05 s/epoch, 0.04 s/batch, ets 1057.52s\n",
      "\n",
      "Test set: Average loss: 1.5083, Accuracy: 6250/10000 (62%)\n",
      "\n",
      "Train Epoch: 17 [6400/50000] Loss: 0.245898 Acc: 0.8906\n",
      "Train Epoch: 17 [12800/50000] Loss: 0.150390 Acc: 0.9531\n",
      "Train Epoch: 17 [19200/50000] Loss: 0.093914 Acc: 0.9844\n",
      "Train Epoch: 17 [25600/50000] Loss: 0.184814 Acc: 0.9219\n",
      "Train Epoch: 17 [32000/50000] Loss: 0.114587 Acc: 0.9844\n",
      "Train Epoch: 17 [38400/50000] Loss: 0.237951 Acc: 0.9062\n",
      "Train Epoch: 17 [44800/50000] Loss: 0.091804 Acc: 0.9844\n",
      "Elapsed 577.83s, 32.10 s/epoch, 0.04 s/batch, ets 1027.25s\n",
      "\n",
      "Test set: Average loss: 0.8432, Accuracy: 7534/10000 (75%)\n",
      "\n",
      "Train Epoch: 18 [6400/50000] Loss: 0.102321 Acc: 1.0000\n",
      "Train Epoch: 18 [12800/50000] Loss: 0.131955 Acc: 0.9688\n",
      "Train Epoch: 18 [19200/50000] Loss: 0.165638 Acc: 0.9688\n",
      "Train Epoch: 18 [25600/50000] Loss: 0.201028 Acc: 0.9531\n",
      "Train Epoch: 18 [32000/50000] Loss: 0.249080 Acc: 0.9219\n",
      "Train Epoch: 18 [38400/50000] Loss: 0.182157 Acc: 0.9219\n",
      "Train Epoch: 18 [44800/50000] Loss: 0.188265 Acc: 0.9531\n",
      "Elapsed 610.58s, 32.14 s/epoch, 0.04 s/batch, ets 996.21s\n",
      "\n",
      "Test set: Average loss: 0.9299, Accuracy: 7390/10000 (74%)\n",
      "\n",
      "Train Epoch: 19 [6400/50000] Loss: 0.111317 Acc: 0.9531\n",
      "Train Epoch: 19 [12800/50000] Loss: 0.229946 Acc: 0.8750\n",
      "Train Epoch: 19 [19200/50000] Loss: 0.147781 Acc: 0.9375\n",
      "Train Epoch: 19 [25600/50000] Loss: 0.141013 Acc: 0.9375\n",
      "Train Epoch: 19 [32000/50000] Loss: 0.144831 Acc: 0.9688\n",
      "Train Epoch: 19 [38400/50000] Loss: 0.288769 Acc: 0.8750\n",
      "Train Epoch: 19 [44800/50000] Loss: 0.169549 Acc: 0.9531\n",
      "Elapsed 643.35s, 32.17 s/epoch, 0.04 s/batch, ets 965.02s\n",
      "\n",
      "Test set: Average loss: 1.0794, Accuracy: 7057/10000 (71%)\n",
      "\n",
      "Train Epoch: 20 [6400/50000] Loss: 0.083495 Acc: 0.9844\n",
      "Train Epoch: 20 [12800/50000] Loss: 0.158316 Acc: 0.9688\n",
      "Train Epoch: 20 [19200/50000] Loss: 0.062605 Acc: 1.0000\n",
      "Train Epoch: 20 [25600/50000] Loss: 0.154298 Acc: 0.9531\n",
      "Train Epoch: 20 [32000/50000] Loss: 0.136099 Acc: 0.9688\n",
      "Train Epoch: 20 [38400/50000] Loss: 0.115039 Acc: 0.9844\n",
      "Train Epoch: 20 [44800/50000] Loss: 0.199746 Acc: 0.9375\n",
      "Elapsed 676.19s, 32.20 s/epoch, 0.04 s/batch, ets 933.79s\n",
      "\n",
      "Test set: Average loss: 0.9680, Accuracy: 7326/10000 (73%)\n",
      "\n",
      "Train Epoch: 21 [6400/50000] Loss: 0.081311 Acc: 0.9531\n",
      "Train Epoch: 21 [12800/50000] Loss: 0.113923 Acc: 0.9531\n",
      "Train Epoch: 21 [19200/50000] Loss: 0.222387 Acc: 0.9219\n",
      "Train Epoch: 21 [25600/50000] Loss: 0.061711 Acc: 1.0000\n",
      "Train Epoch: 21 [32000/50000] Loss: 0.074693 Acc: 0.9844\n",
      "Train Epoch: 21 [38400/50000] Loss: 0.175790 Acc: 0.9375\n",
      "Train Epoch: 21 [44800/50000] Loss: 0.223614 Acc: 0.9531\n",
      "Elapsed 708.86s, 32.22 s/epoch, 0.04 s/batch, ets 902.18s\n",
      "\n",
      "Test set: Average loss: 1.3425, Accuracy: 6741/10000 (67%)\n",
      "\n",
      "Train Epoch: 22 [6400/50000] Loss: 0.086272 Acc: 0.9688\n",
      "Train Epoch: 22 [12800/50000] Loss: 0.157391 Acc: 0.9375\n",
      "Train Epoch: 22 [19200/50000] Loss: 0.058701 Acc: 0.9844\n",
      "Train Epoch: 22 [25600/50000] Loss: 0.175498 Acc: 0.9375\n",
      "Train Epoch: 22 [32000/50000] Loss: 0.172423 Acc: 0.9062\n",
      "Train Epoch: 22 [38400/50000] Loss: 0.108675 Acc: 0.9688\n",
      "Train Epoch: 22 [44800/50000] Loss: 0.093256 Acc: 0.9844\n",
      "Elapsed 741.51s, 32.24 s/epoch, 0.04 s/batch, ets 870.47s\n",
      "\n",
      "Test set: Average loss: 1.2169, Accuracy: 7026/10000 (70%)\n",
      "\n",
      "Train Epoch: 23 [6400/50000] Loss: 0.038782 Acc: 1.0000\n",
      "Train Epoch: 23 [12800/50000] Loss: 0.080291 Acc: 1.0000\n",
      "Train Epoch: 23 [19200/50000] Loss: 0.096070 Acc: 0.9688\n",
      "Train Epoch: 23 [25600/50000] Loss: 0.068625 Acc: 1.0000\n",
      "Train Epoch: 23 [32000/50000] Loss: 0.078250 Acc: 0.9844\n",
      "Train Epoch: 23 [38400/50000] Loss: 0.143936 Acc: 0.9531\n",
      "Train Epoch: 23 [44800/50000] Loss: 0.051613 Acc: 0.9844\n",
      "Elapsed 774.32s, 32.26 s/epoch, 0.04 s/batch, ets 838.85s\n",
      "\n",
      "Test set: Average loss: 1.0524, Accuracy: 7439/10000 (74%)\n",
      "\n",
      "Train Epoch: 24 [6400/50000] Loss: 0.082912 Acc: 0.9844\n",
      "Train Epoch: 24 [12800/50000] Loss: 0.073055 Acc: 1.0000\n",
      "Train Epoch: 24 [19200/50000] Loss: 0.056406 Acc: 1.0000\n",
      "Train Epoch: 24 [25600/50000] Loss: 0.068277 Acc: 0.9844\n",
      "Train Epoch: 24 [32000/50000] Loss: 0.089618 Acc: 0.9844\n",
      "Train Epoch: 24 [38400/50000] Loss: 0.055573 Acc: 1.0000\n",
      "Train Epoch: 24 [44800/50000] Loss: 0.108114 Acc: 0.9688\n",
      "Elapsed 806.86s, 32.27 s/epoch, 0.04 s/batch, ets 806.86s\n",
      "\n",
      "Test set: Average loss: 1.0165, Accuracy: 7492/10000 (75%)\n",
      "\n",
      "Train Epoch: 25 [6400/50000] Loss: 0.043789 Acc: 0.9844\n",
      "Train Epoch: 25 [12800/50000] Loss: 0.066061 Acc: 0.9688\n",
      "Train Epoch: 25 [19200/50000] Loss: 0.031249 Acc: 1.0000\n",
      "Train Epoch: 25 [25600/50000] Loss: 0.072764 Acc: 0.9844\n",
      "Train Epoch: 25 [32000/50000] Loss: 0.035927 Acc: 1.0000\n",
      "Train Epoch: 25 [38400/50000] Loss: 0.027017 Acc: 1.0000\n",
      "Train Epoch: 25 [44800/50000] Loss: 0.095986 Acc: 0.9688\n",
      "Elapsed 839.72s, 32.30 s/epoch, 0.04 s/batch, ets 775.13s\n",
      "\n",
      "Test set: Average loss: 1.1288, Accuracy: 7314/10000 (73%)\n",
      "\n",
      "Train Epoch: 26 [6400/50000] Loss: 0.037505 Acc: 0.9844\n",
      "Train Epoch: 26 [12800/50000] Loss: 0.049603 Acc: 1.0000\n",
      "Train Epoch: 26 [19200/50000] Loss: 0.049183 Acc: 1.0000\n",
      "Train Epoch: 26 [25600/50000] Loss: 0.042261 Acc: 1.0000\n",
      "Train Epoch: 26 [32000/50000] Loss: 0.041778 Acc: 1.0000\n",
      "Train Epoch: 26 [38400/50000] Loss: 0.068594 Acc: 1.0000\n",
      "Train Epoch: 26 [44800/50000] Loss: 0.022098 Acc: 1.0000\n",
      "Elapsed 872.75s, 32.32 s/epoch, 0.04 s/batch, ets 743.45s\n",
      "\n",
      "Test set: Average loss: 0.9395, Accuracy: 7707/10000 (77%)\n",
      "\n",
      "Accuracy improved, saving the model.\n",
      "\n",
      "Train Epoch: 27 [6400/50000] Loss: 0.028400 Acc: 1.0000\n",
      "Train Epoch: 27 [12800/50000] Loss: 0.016513 Acc: 1.0000\n",
      "Train Epoch: 27 [19200/50000] Loss: 0.024883 Acc: 1.0000\n",
      "Train Epoch: 27 [25600/50000] Loss: 0.055172 Acc: 0.9844\n",
      "Train Epoch: 27 [32000/50000] Loss: 0.028813 Acc: 1.0000\n",
      "Train Epoch: 27 [38400/50000] Loss: 0.038049 Acc: 1.0000\n",
      "Train Epoch: 27 [44800/50000] Loss: 0.067582 Acc: 1.0000\n",
      "Elapsed 905.52s, 32.34 s/epoch, 0.04 s/batch, ets 711.48s\n",
      "\n",
      "Test set: Average loss: 1.0288, Accuracy: 7591/10000 (76%)\n",
      "\n",
      "Train Epoch: 28 [6400/50000] Loss: 0.037749 Acc: 0.9844\n",
      "Train Epoch: 28 [12800/50000] Loss: 0.012097 Acc: 1.0000\n",
      "Train Epoch: 28 [19200/50000] Loss: 0.050276 Acc: 1.0000\n",
      "Train Epoch: 28 [25600/50000] Loss: 0.041797 Acc: 0.9844\n",
      "Train Epoch: 28 [32000/50000] Loss: 0.028948 Acc: 1.0000\n",
      "Train Epoch: 28 [38400/50000] Loss: 0.039056 Acc: 1.0000\n",
      "Train Epoch: 28 [44800/50000] Loss: 0.014480 Acc: 1.0000\n",
      "Elapsed 938.44s, 32.36 s/epoch, 0.04 s/batch, ets 679.56s\n",
      "\n",
      "Test set: Average loss: 2.3772, Accuracy: 6080/10000 (61%)\n",
      "\n",
      "Train Epoch: 29 [6400/50000] Loss: 0.056286 Acc: 0.9844\n",
      "Train Epoch: 29 [12800/50000] Loss: 0.027961 Acc: 1.0000\n",
      "Train Epoch: 29 [19200/50000] Loss: 0.022253 Acc: 1.0000\n",
      "Train Epoch: 29 [25600/50000] Loss: 0.023518 Acc: 1.0000\n",
      "Train Epoch: 29 [32000/50000] Loss: 0.021611 Acc: 1.0000\n",
      "Train Epoch: 29 [38400/50000] Loss: 0.016372 Acc: 1.0000\n",
      "Train Epoch: 29 [44800/50000] Loss: 0.027931 Acc: 1.0000\n",
      "Elapsed 971.23s, 32.37 s/epoch, 0.04 s/batch, ets 647.49s\n",
      "\n",
      "Test set: Average loss: 0.9648, Accuracy: 7740/10000 (77%)\n",
      "\n",
      "Accuracy improved, saving the model.\n",
      "\n",
      "Train Epoch: 30 [6400/50000] Loss: 0.025691 Acc: 1.0000\n",
      "Train Epoch: 30 [12800/50000] Loss: 0.017624 Acc: 1.0000\n",
      "Train Epoch: 30 [19200/50000] Loss: 0.017607 Acc: 1.0000\n",
      "Train Epoch: 30 [25600/50000] Loss: 0.012912 Acc: 1.0000\n",
      "Train Epoch: 30 [32000/50000] Loss: 0.023907 Acc: 1.0000\n",
      "Train Epoch: 30 [38400/50000] Loss: 0.014040 Acc: 1.0000\n",
      "Train Epoch: 30 [44800/50000] Loss: 0.010202 Acc: 1.0000\n",
      "Elapsed 1003.94s, 32.39 s/epoch, 0.04 s/batch, ets 615.32s\n",
      "\n",
      "Test set: Average loss: 0.9769, Accuracy: 7770/10000 (78%)\n",
      "\n",
      "Accuracy improved, saving the model.\n",
      "\n",
      "Train Epoch: 31 [6400/50000] Loss: 0.013261 Acc: 1.0000\n",
      "Train Epoch: 31 [12800/50000] Loss: 0.007269 Acc: 1.0000\n",
      "Train Epoch: 31 [19200/50000] Loss: 0.017055 Acc: 1.0000\n",
      "Train Epoch: 31 [25600/50000] Loss: 0.011653 Acc: 1.0000\n",
      "Train Epoch: 31 [32000/50000] Loss: 0.012968 Acc: 1.0000\n",
      "Train Epoch: 31 [38400/50000] Loss: 0.013056 Acc: 1.0000\n",
      "Train Epoch: 31 [44800/50000] Loss: 0.016566 Acc: 1.0000\n",
      "Elapsed 1038.69s, 32.46 s/epoch, 0.04 s/batch, ets 584.26s\n",
      "\n",
      "Test set: Average loss: 0.9876, Accuracy: 7755/10000 (78%)\n",
      "\n",
      "Train Epoch: 32 [6400/50000] Loss: 0.012662 Acc: 1.0000\n",
      "Train Epoch: 32 [12800/50000] Loss: 0.013131 Acc: 1.0000\n",
      "Train Epoch: 32 [19200/50000] Loss: 0.011056 Acc: 1.0000\n",
      "Train Epoch: 32 [25600/50000] Loss: 0.008293 Acc: 1.0000\n",
      "Train Epoch: 32 [32000/50000] Loss: 0.010071 Acc: 1.0000\n",
      "Train Epoch: 32 [38400/50000] Loss: 0.014390 Acc: 1.0000\n",
      "Train Epoch: 32 [44800/50000] Loss: 0.013927 Acc: 1.0000\n",
      "Elapsed 1073.32s, 32.52 s/epoch, 0.04 s/batch, ets 552.92s\n",
      "\n",
      "Test set: Average loss: 1.0124, Accuracy: 7770/10000 (78%)\n",
      "\n",
      "Train Epoch: 33 [6400/50000] Loss: 0.010652 Acc: 1.0000\n",
      "Train Epoch: 33 [12800/50000] Loss: 0.011158 Acc: 1.0000\n",
      "Train Epoch: 33 [19200/50000] Loss: 0.010202 Acc: 1.0000\n",
      "Train Epoch: 33 [25600/50000] Loss: 0.015600 Acc: 1.0000\n",
      "Train Epoch: 33 [32000/50000] Loss: 0.010327 Acc: 1.0000\n",
      "Train Epoch: 33 [38400/50000] Loss: 0.020905 Acc: 1.0000\n",
      "Train Epoch: 33 [44800/50000] Loss: 0.007884 Acc: 1.0000\n",
      "Elapsed 1107.72s, 32.58 s/epoch, 0.04 s/batch, ets 521.28s\n",
      "\n",
      "Test set: Average loss: 1.0265, Accuracy: 7768/10000 (78%)\n",
      "\n",
      "Train Epoch: 34 [6400/50000] Loss: 0.011194 Acc: 1.0000\n",
      "Train Epoch: 34 [12800/50000] Loss: 0.007434 Acc: 1.0000\n",
      "Train Epoch: 34 [19200/50000] Loss: 0.011097 Acc: 1.0000\n",
      "Train Epoch: 34 [25600/50000] Loss: 0.007358 Acc: 1.0000\n",
      "Train Epoch: 34 [32000/50000] Loss: 0.007117 Acc: 1.0000\n",
      "Train Epoch: 34 [38400/50000] Loss: 0.016724 Acc: 1.0000\n",
      "Train Epoch: 34 [44800/50000] Loss: 0.011466 Acc: 1.0000\n",
      "Elapsed 1142.65s, 32.65 s/epoch, 0.04 s/batch, ets 489.71s\n",
      "\n",
      "Test set: Average loss: 1.0332, Accuracy: 7766/10000 (78%)\n",
      "\n",
      "Train Epoch: 35 [6400/50000] Loss: 0.007954 Acc: 1.0000\n",
      "Train Epoch: 35 [12800/50000] Loss: 0.008190 Acc: 1.0000\n",
      "Train Epoch: 35 [19200/50000] Loss: 0.008966 Acc: 1.0000\n",
      "Train Epoch: 35 [25600/50000] Loss: 0.009882 Acc: 1.0000\n",
      "Train Epoch: 35 [32000/50000] Loss: 0.012509 Acc: 1.0000\n",
      "Train Epoch: 35 [38400/50000] Loss: 0.008264 Acc: 1.0000\n",
      "Train Epoch: 35 [44800/50000] Loss: 0.012561 Acc: 1.0000\n",
      "Elapsed 1177.25s, 32.70 s/epoch, 0.04 s/batch, ets 457.82s\n",
      "\n",
      "Test set: Average loss: 1.0531, Accuracy: 7785/10000 (78%)\n",
      "\n",
      "Accuracy improved, saving the model.\n",
      "\n",
      "Train Epoch: 36 [6400/50000] Loss: 0.016693 Acc: 1.0000\n",
      "Train Epoch: 36 [12800/50000] Loss: 0.004910 Acc: 1.0000\n",
      "Train Epoch: 36 [19200/50000] Loss: 0.009375 Acc: 1.0000\n",
      "Train Epoch: 36 [25600/50000] Loss: 0.008594 Acc: 1.0000\n",
      "Train Epoch: 36 [32000/50000] Loss: 0.004312 Acc: 1.0000\n",
      "Train Epoch: 36 [38400/50000] Loss: 0.008599 Acc: 1.0000\n",
      "Train Epoch: 36 [44800/50000] Loss: 0.011047 Acc: 1.0000\n",
      "Elapsed 1212.11s, 32.76 s/epoch, 0.04 s/batch, ets 425.88s\n",
      "\n",
      "Test set: Average loss: 1.1557, Accuracy: 7632/10000 (76%)\n",
      "\n",
      "Train Epoch: 37 [6400/50000] Loss: 0.011159 Acc: 1.0000\n",
      "Train Epoch: 37 [12800/50000] Loss: 0.008572 Acc: 1.0000\n",
      "Train Epoch: 37 [19200/50000] Loss: 0.008928 Acc: 1.0000\n",
      "Train Epoch: 37 [25600/50000] Loss: 0.006994 Acc: 1.0000\n",
      "Train Epoch: 37 [32000/50000] Loss: 0.004621 Acc: 1.0000\n",
      "Train Epoch: 37 [38400/50000] Loss: 0.004385 Acc: 1.0000\n",
      "Train Epoch: 37 [44800/50000] Loss: 0.007418 Acc: 1.0000\n",
      "Elapsed 1246.74s, 32.81 s/epoch, 0.04 s/batch, ets 393.71s\n",
      "\n",
      "Test set: Average loss: 1.0829, Accuracy: 7733/10000 (77%)\n",
      "\n",
      "Train Epoch: 38 [6400/50000] Loss: 0.009720 Acc: 1.0000\n",
      "Train Epoch: 38 [12800/50000] Loss: 0.003015 Acc: 1.0000\n",
      "Train Epoch: 38 [19200/50000] Loss: 0.009165 Acc: 1.0000\n",
      "Train Epoch: 38 [25600/50000] Loss: 0.005698 Acc: 1.0000\n",
      "Train Epoch: 38 [32000/50000] Loss: 0.007086 Acc: 1.0000\n",
      "Train Epoch: 38 [38400/50000] Loss: 0.007174 Acc: 1.0000\n",
      "Train Epoch: 38 [44800/50000] Loss: 0.004024 Acc: 1.0000\n",
      "Elapsed 1280.95s, 32.84 s/epoch, 0.04 s/batch, ets 361.29s\n",
      "\n",
      "Test set: Average loss: 1.4369, Accuracy: 7321/10000 (73%)\n",
      "\n",
      "Train Epoch: 39 [6400/50000] Loss: 0.004810 Acc: 1.0000\n",
      "Train Epoch: 39 [12800/50000] Loss: 0.005340 Acc: 1.0000\n",
      "Train Epoch: 39 [19200/50000] Loss: 0.010303 Acc: 1.0000\n",
      "Train Epoch: 39 [25600/50000] Loss: 0.003110 Acc: 1.0000\n",
      "Train Epoch: 39 [32000/50000] Loss: 0.006336 Acc: 1.0000\n",
      "Train Epoch: 39 [38400/50000] Loss: 0.005964 Acc: 1.0000\n",
      "Train Epoch: 39 [44800/50000] Loss: 0.012844 Acc: 1.0000\n",
      "Elapsed 1314.89s, 32.87 s/epoch, 0.04 s/batch, ets 328.72s\n",
      "\n",
      "Test set: Average loss: 1.1008, Accuracy: 7758/10000 (78%)\n",
      "\n",
      "Train Epoch: 40 [6400/50000] Loss: 0.006579 Acc: 1.0000\n",
      "Train Epoch: 40 [12800/50000] Loss: 0.007839 Acc: 1.0000\n",
      "Train Epoch: 40 [19200/50000] Loss: 0.006536 Acc: 1.0000\n",
      "Train Epoch: 40 [25600/50000] Loss: 0.008061 Acc: 1.0000\n",
      "Train Epoch: 40 [32000/50000] Loss: 0.006776 Acc: 1.0000\n",
      "Train Epoch: 40 [38400/50000] Loss: 0.006337 Acc: 1.0000\n",
      "Train Epoch: 40 [44800/50000] Loss: 0.007098 Acc: 1.0000\n",
      "Elapsed 1348.51s, 32.89 s/epoch, 0.04 s/batch, ets 296.02s\n",
      "\n",
      "Test set: Average loss: 1.0881, Accuracy: 7781/10000 (78%)\n",
      "\n",
      "Train Epoch: 41 [6400/50000] Loss: 0.007971 Acc: 1.0000\n",
      "Train Epoch: 41 [12800/50000] Loss: 0.006774 Acc: 1.0000\n",
      "Train Epoch: 41 [19200/50000] Loss: 0.004055 Acc: 1.0000\n",
      "Train Epoch: 41 [25600/50000] Loss: 0.005956 Acc: 1.0000\n",
      "Train Epoch: 41 [32000/50000] Loss: 0.007860 Acc: 1.0000\n",
      "Train Epoch: 41 [38400/50000] Loss: 0.005549 Acc: 1.0000\n",
      "Train Epoch: 41 [44800/50000] Loss: 0.007394 Acc: 1.0000\n",
      "Elapsed 1382.48s, 32.92 s/epoch, 0.04 s/batch, ets 263.33s\n",
      "\n",
      "Test set: Average loss: 1.1012, Accuracy: 7757/10000 (78%)\n",
      "\n",
      "Train Epoch: 42 [6400/50000] Loss: 0.005863 Acc: 1.0000\n",
      "Train Epoch: 42 [12800/50000] Loss: 0.005496 Acc: 1.0000\n",
      "Train Epoch: 42 [19200/50000] Loss: 0.010781 Acc: 1.0000\n",
      "Train Epoch: 42 [25600/50000] Loss: 0.003923 Acc: 1.0000\n",
      "Train Epoch: 42 [32000/50000] Loss: 0.004388 Acc: 1.0000\n",
      "Train Epoch: 42 [38400/50000] Loss: 0.006238 Acc: 1.0000\n",
      "Train Epoch: 42 [44800/50000] Loss: 0.004951 Acc: 1.0000\n",
      "Elapsed 1416.33s, 32.94 s/epoch, 0.04 s/batch, ets 230.57s\n",
      "\n",
      "Test set: Average loss: 1.1080, Accuracy: 7770/10000 (78%)\n",
      "\n",
      "Train Epoch: 43 [6400/50000] Loss: 0.004103 Acc: 1.0000\n",
      "Train Epoch: 43 [12800/50000] Loss: 0.003253 Acc: 1.0000\n",
      "Train Epoch: 43 [19200/50000] Loss: 0.005631 Acc: 1.0000\n",
      "Train Epoch: 43 [25600/50000] Loss: 0.003934 Acc: 1.0000\n",
      "Train Epoch: 43 [32000/50000] Loss: 0.002869 Acc: 1.0000\n",
      "Train Epoch: 43 [38400/50000] Loss: 0.003117 Acc: 1.0000\n",
      "Train Epoch: 43 [44800/50000] Loss: 0.006348 Acc: 1.0000\n",
      "Elapsed 1450.00s, 32.95 s/epoch, 0.04 s/batch, ets 197.73s\n",
      "\n",
      "Test set: Average loss: 1.1381, Accuracy: 7739/10000 (77%)\n",
      "\n",
      "Train Epoch: 44 [6400/50000] Loss: 0.002845 Acc: 1.0000\n",
      "Train Epoch: 44 [12800/50000] Loss: 0.006017 Acc: 1.0000\n",
      "Train Epoch: 44 [19200/50000] Loss: 0.007049 Acc: 1.0000\n",
      "Train Epoch: 44 [25600/50000] Loss: 0.005282 Acc: 1.0000\n",
      "Train Epoch: 44 [32000/50000] Loss: 0.005647 Acc: 1.0000\n",
      "Train Epoch: 44 [38400/50000] Loss: 0.004875 Acc: 1.0000\n",
      "Train Epoch: 44 [44800/50000] Loss: 0.003187 Acc: 1.0000\n",
      "Elapsed 1483.94s, 32.98 s/epoch, 0.04 s/batch, ets 164.88s\n",
      "\n",
      "Test set: Average loss: 1.1186, Accuracy: 7776/10000 (78%)\n",
      "\n",
      "Train Epoch: 45 [6400/50000] Loss: 0.004936 Acc: 1.0000\n",
      "Train Epoch: 45 [12800/50000] Loss: 0.002634 Acc: 1.0000\n",
      "Train Epoch: 45 [19200/50000] Loss: 0.003389 Acc: 1.0000\n",
      "Train Epoch: 45 [25600/50000] Loss: 0.004925 Acc: 1.0000\n",
      "Train Epoch: 45 [32000/50000] Loss: 0.005147 Acc: 1.0000\n",
      "Train Epoch: 45 [38400/50000] Loss: 0.004455 Acc: 1.0000\n",
      "Train Epoch: 45 [44800/50000] Loss: 0.004252 Acc: 1.0000\n",
      "Elapsed 1518.04s, 33.00 s/epoch, 0.04 s/batch, ets 132.00s\n",
      "\n",
      "Test set: Average loss: 1.1462, Accuracy: 7781/10000 (78%)\n",
      "\n",
      "Train Epoch: 46 [6400/50000] Loss: 0.006520 Acc: 1.0000\n",
      "Train Epoch: 46 [12800/50000] Loss: 0.003998 Acc: 1.0000\n",
      "Train Epoch: 46 [19200/50000] Loss: 0.003929 Acc: 1.0000\n",
      "Train Epoch: 46 [25600/50000] Loss: 0.003041 Acc: 1.0000\n",
      "Train Epoch: 46 [32000/50000] Loss: 0.003922 Acc: 1.0000\n",
      "Train Epoch: 46 [38400/50000] Loss: 0.008101 Acc: 1.0000\n",
      "Train Epoch: 46 [44800/50000] Loss: 0.006414 Acc: 1.0000\n",
      "Elapsed 1552.42s, 33.03 s/epoch, 0.04 s/batch, ets 99.09s\n",
      "\n",
      "Test set: Average loss: 1.1331, Accuracy: 7775/10000 (78%)\n",
      "\n",
      "Train Epoch: 47 [6400/50000] Loss: 0.005225 Acc: 1.0000\n",
      "Train Epoch: 47 [12800/50000] Loss: 0.007499 Acc: 1.0000\n",
      "Train Epoch: 47 [19200/50000] Loss: 0.003634 Acc: 1.0000\n",
      "Train Epoch: 47 [25600/50000] Loss: 0.004980 Acc: 1.0000\n",
      "Train Epoch: 47 [32000/50000] Loss: 0.006149 Acc: 1.0000\n",
      "Train Epoch: 47 [38400/50000] Loss: 0.003377 Acc: 1.0000\n",
      "Train Epoch: 47 [44800/50000] Loss: 0.004676 Acc: 1.0000\n",
      "Elapsed 1586.26s, 33.05 s/epoch, 0.04 s/batch, ets 66.09s\n",
      "\n",
      "Test set: Average loss: 1.1451, Accuracy: 7772/10000 (78%)\n",
      "\n",
      "Train Epoch: 48 [6400/50000] Loss: 0.004400 Acc: 1.0000\n",
      "Train Epoch: 48 [12800/50000] Loss: 0.002695 Acc: 1.0000\n",
      "Train Epoch: 48 [19200/50000] Loss: 0.002240 Acc: 1.0000\n",
      "Train Epoch: 48 [25600/50000] Loss: 0.002634 Acc: 1.0000\n",
      "Train Epoch: 48 [32000/50000] Loss: 0.003497 Acc: 1.0000\n",
      "Train Epoch: 48 [38400/50000] Loss: 0.003737 Acc: 1.0000\n",
      "Train Epoch: 48 [44800/50000] Loss: 0.005398 Acc: 1.0000\n",
      "Elapsed 1620.62s, 33.07 s/epoch, 0.04 s/batch, ets 33.07s\n",
      "\n",
      "Test set: Average loss: 1.1641, Accuracy: 7763/10000 (78%)\n",
      "\n",
      "Train Epoch: 49 [6400/50000] Loss: 0.003030 Acc: 1.0000\n",
      "Train Epoch: 49 [12800/50000] Loss: 0.002849 Acc: 1.0000\n",
      "Train Epoch: 49 [19200/50000] Loss: 0.004408 Acc: 1.0000\n",
      "Train Epoch: 49 [25600/50000] Loss: 0.003874 Acc: 1.0000\n",
      "Train Epoch: 49 [32000/50000] Loss: 0.004704 Acc: 1.0000\n",
      "Train Epoch: 49 [38400/50000] Loss: 0.003911 Acc: 1.0000\n",
      "Train Epoch: 49 [44800/50000] Loss: 0.002521 Acc: 1.0000\n",
      "Elapsed 1653.77s, 33.08 s/epoch, 0.04 s/batch, ets 0.00s\n",
      "\n",
      "Test set: Average loss: 1.1539, Accuracy: 7791/10000 (78%)\n",
      "\n",
      "Accuracy improved, saving the model.\n",
      "\n",
      "Total time: 1667.35, Best Loss: 0.744, Best Accuracy: 0.779\n"
     ]
    }
   ],
   "source": [
    "if required_training:\n",
    "    model, epoch_train_loss, epoch_train_acc, epoch_test_loss, epoch_test_acc = main()"
   ]
  },
  {
   "cell_type": "markdown",
   "metadata": {
    "deletable": false,
    "editable": false,
    "nbgrader": {
     "grade": false,
     "locked": true,
     "solution": false
    }
   },
   "source": [
    "# <font style=\"color:blue\">12. Plot Loss</font>"
   ]
  },
  {
   "cell_type": "code",
   "execution_count": 19,
   "metadata": {
    "deletable": false,
    "editable": false,
    "lines_to_next_cell": 2,
    "nbgrader": {
     "grade": false,
     "locked": true,
     "solution": false
    }
   },
   "outputs": [
    {
     "data": {
      "image/png": "[encoded data removed]",
      "text/plain": [
       "<Figure size 1000x600 with 1 Axes>"
      ]
     },
     "metadata": {},
     "output_type": "display_data"
    }
   ],
   "source": [
    "# Plot loss\n",
    "plt.rcParams[\"figure.figsize\"] = (10, 6)\n",
    "x = range(len(epoch_train_loss))\n",
    "\n",
    "\n",
    "plt.figure\n",
    "plt.plot(x, epoch_train_loss, color='r', label=\"train loss\")\n",
    "plt.plot(x, epoch_test_loss, color='b', label=\"validation loss\")\n",
    "plt.xlabel('epoch no.')\n",
    "plt.ylabel('loss')\n",
    "plt.legend(loc='upper right')\n",
    "plt.title('Training and Validation Loss')\n",
    "plt.show()"
   ]
  },
  {
   "cell_type": "markdown",
   "metadata": {
    "deletable": false,
    "editable": false,
    "nbgrader": {
     "grade": false,
     "locked": true,
     "solution": false
    }
   },
   "source": [
    "# <font style=\"color:blue\">13. Plot Accuracy</font>"
   ]
  },
  {
   "cell_type": "code",
   "execution_count": 20,
   "metadata": {
    "deletable": false,
    "editable": false,
    "nbgrader": {
     "grade": false,
     "locked": true,
     "solution": false
    }
   },
   "outputs": [
    {
     "data": {
      "image/png": "[encoded data removed]",
      "text/plain": [
       "<Figure size 1000x600 with 1 Axes>"
      ]
     },
     "metadata": {},
     "output_type": "display_data"
    }
   ],
   "source": [
    "# Plot loss\n",
    "plt.rcParams[\"figure.figsize\"] = (10, 6)\n",
    "x = range(len(epoch_train_loss))\n",
    "\n",
    "\n",
    "plt.figure\n",
    "plt.plot(x, epoch_train_acc, color='r', label=\"train accuracy\")\n",
    "plt.plot(x, epoch_test_acc, color='b', label=\"validation accuracy\")\n",
    "plt.xlabel('epoch no.')\n",
    "plt.ylabel('accuracy')\n",
    "plt.legend(loc='center right')\n",
    "plt.title('Training and Validation Accuracy')\n",
    "plt.show()"
   ]
  },
  {
   "cell_type": "markdown",
   "metadata": {
    "deletable": false,
    "editable": false,
    "nbgrader": {
     "grade": false,
     "locked": true,
     "solution": false
    }
   },
   "source": [
    "# <font style=\"color:blue\">14. Loading the Model </font>\n"
   ]
  },
  {
   "cell_type": "code",
   "execution_count": 21,
   "metadata": {
    "deletable": false,
    "editable": false,
    "nbgrader": {
     "grade": false,
     "locked": true,
     "solution": false
    }
   },
   "outputs": [
    {
     "data": {
      "text/plain": [
       "<All keys matched successfully>"
      ]
     },
     "execution_count": 21,
     "metadata": {},
     "output_type": "execute_result"
    }
   ],
   "source": [
    "# initialize the model\n",
    "cnn_model = MyModel()\n",
    "\n",
    "models = 'models'\n",
    "\n",
    "model_file_name = 'cifar10_cnn_model.pt'\n",
    "\n",
    "model_path = os.path.join(models, model_file_name)\n",
    "\n",
    "# loading the model and getting model parameters by using load_state_dict\n",
    "cnn_model.load_state_dict(torch.load(model_path))"
   ]
  },
  {
   "cell_type": "markdown",
   "metadata": {
    "deletable": false,
    "editable": false,
    "nbgrader": {
     "grade": false,
     "locked": true,
     "solution": false
    }
   },
   "source": [
    "# <font style=\"color:blue\">15. Model Prediction</font>\n"
   ]
  },
  {
   "cell_type": "code",
   "execution_count": 23,
   "metadata": {
    "collapsed": true,
    "deletable": false,
    "editable": false,
    "nbgrader": {
     "grade": false,
     "locked": true,
     "solution": false
    }
   },
   "outputs": [],
   "source": [
    "def prediction(model, train_config, batch_input):\n",
    "    \n",
    "    # send model to cpu/cuda according to your system configuration\n",
    "    model.to(train_config.device)\n",
    "    \n",
    "    # it is important to do model.eval() before prediction\n",
    "    model.eval()\n",
    "\n",
    "    data = batch_input.to(train_config.device)\n",
    "\n",
    "    output = model(data)\n",
    "\n",
    "    # Score to probability using softmax\n",
    "    prob = F.softmax(output, dim=1)\n",
    "\n",
    "    # get the max probability\n",
    "    pred_prob = prob.data.max(dim=1)[0]\n",
    "    \n",
    "    # get the index of the max probability\n",
    "    pred_index = prob.data.max(dim=1)[1]\n",
    "    \n",
    "    return pred_index.cpu().numpy(), pred_prob.cpu().numpy()"
   ]
  },
  {
   "cell_type": "markdown",
   "metadata": {
    "deletable": false,
    "editable": false,
    "nbgrader": {
     "grade": false,
     "locked": true,
     "solution": false
    }
   },
   "source": [
    "# <font style=\"color:blue\">16. Perform Inference on sample images </font>\n",
    "\n",
    "For prediction, we need to transform the data in the same way as we have done during training. "
   ]
  },
  {
   "cell_type": "code",
   "execution_count": 24,
   "metadata": {
    "deletable": false,
    "editable": false,
    "lines_to_next_cell": 2,
    "nbgrader": {
     "grade": false,
     "locked": true,
     "solution": false
    }
   },
   "outputs": [
    {
     "data": {
      "image/png": "[encoded data removed]",
      "text/plain": [
       "<Figure size 300x300 with 1 Axes>"
      ]
     },
     "metadata": {},
     "output_type": "display_data"
    },
    {
     "data": {
      "image/png": "[encoded data removed]",
      "text/plain": [
       "<Figure size 300x300 with 1 Axes>"
      ]
     },
     "metadata": {},
     "output_type": "display_data"
    },
    {
     "data": {
      "image/png": "[encoded data removed]",
      "text/plain": [
       "<Figure size 300x300 with 1 Axes>"
      ]
     },
     "metadata": {},
     "output_type": "display_data"
    },
    {
     "data": {
      "image/png": "[encoded data removed]",
      "text/plain": [
       "<Figure size 300x300 with 1 Axes>"
      ]
     },
     "metadata": {},
     "output_type": "display_data"
    },
    {
     "data": {
      "image/png": "[encoded data removed]",
      "text/plain": [
       "<Figure size 300x300 with 1 Axes>"
      ]
     },
     "metadata": {},
     "output_type": "display_data"
    }
   ],
   "source": [
    "classes = ('plane', 'car', 'bird', 'cat', 'deer', 'dog', 'frog', 'horse', 'ship', 'truck')\n",
    "\n",
    "batch_size = 5\n",
    "train_config = TrainingConfiguration()\n",
    "\n",
    "if torch.cuda.is_available():\n",
    "    train_config.device = \"cuda\"\n",
    "else:\n",
    "    train_config.device = \"cpu\"\n",
    "    \n",
    "    \n",
    "\n",
    "# load test data without image transformation\n",
    "test = torch.utils.data.DataLoader(\n",
    "    datasets.CIFAR10(root=train_config.data_root, train=False, download=False, \n",
    "                   transform=transforms.functional.to_tensor),\n",
    "    batch_size=batch_size,\n",
    "    shuffle=False,\n",
    "    num_workers=1\n",
    "    )\n",
    "\n",
    "try:\n",
    "    mean, std = get_mean_std_train_data(data_root)\n",
    "    assert len(mean) == len(std) == 3\n",
    "except:\n",
    "    mean = (0.5, 0.5, 0.5)\n",
    "    std = (0.5, 0.5, 0.5)\n",
    "\n",
    "# load testdata with image transformation\n",
    "image_transforms = transforms.Compose([\n",
    "    transforms.ToTensor(),\n",
    "    transforms.Normalize(mean, std)\n",
    "    ])\n",
    "\n",
    "test_trans = torch.utils.data.DataLoader(\n",
    "    datasets.CIFAR10(root=train_config.data_root, train=False, download=False, transform=image_transforms),\n",
    "    batch_size=batch_size,\n",
    "    shuffle=False,\n",
    "    num_workers=1\n",
    "    )\n",
    "\n",
    "for data, _ in test_trans:\n",
    "    # pass the loaded model\n",
    "    pred, prob = prediction(cnn_model, train_config, data)\n",
    "    break\n",
    "    \n",
    "\n",
    "plt.rcParams[\"figure.figsize\"] = (3, 3)\n",
    "for images, label in test:\n",
    "    for i, img in enumerate(images):\n",
    "        img = transforms.functional.to_pil_image(img)\n",
    "        plt.imshow(img)\n",
    "        plt.gca().set_title('Pred: {0}({1:0.2}), Label: {2}'.format(classes[pred[i]], prob[i], classes[label[i]]))\n",
    "        plt.show()\n",
    "    break"
   ]
  },
  {
   "attachments": {
    "image-2.png": {
     "image/png": "[encoded data removed]"
    },
    "image-3.png": {
     "image/png": "[encoded data removed]"
    },
    "image.png": {
     "image/png": "[encoded data removed]"
    }
   },
   "cell_type": "markdown",
   "metadata": {},
   "source": [
    "# <font style=\"color:blue\">17. Report your findings</font>\n",
    "> **Model Architecture:** The CNN model was implemented with three convolutional layers, each followed by batch normalization, ReLU activation, and max pooling. The final layers were fully connected layers to produce the output for 10 classes. But based on the training curve, looks like a simpler architecture could have achieved similar or better accuracy.\n",
    "\n",
    "> **Training Configuration:**  The final training configuration, which included a batch size of 64, 50 epochs, a learning rate of 0.01, momentum of 0.9, and weight decay of 5e-4. The training was performed on a GPU to speed up the process.\n",
    "\n",
    "### Predicted Results \n",
    "> ![image.png](attachment:image.png)\n",
    "- miss classified, also the image is blurry and the shape of the plane does look like a bird\n",
    "> ![image-2.png](attachment:image-2.png) \n",
    "- another wrong classification from the test sample, but the confidence is just (0.31) which can be avoided. Overall it is a good classifier, not the best but could be better.\n",
    "\n",
    "\n",
    "### Insight of the training accuracy curve\n",
    "> ![image-3.png](attachment:image-3.png) \n",
    "-the training curve seems to memorized or learning the training set completely as it stabilized at 1.0 (or 100%). However the gap between the validation and the training indicates that there is high overfitting. \n",
    "- only 20-30 epochs would have been enough for the current parameter setting, using Regularizers, or using DropOut layers in the future training scope may help prevent this overfitting issue.\n",
    "\n",
    "> It was interesting to see the how change in few parameters affected the performance of the model, with just a few parameter tweaking to achieve a higher accuracy. This training can be optimized further but because of time constraints, I will keep to this architecture and configurations as I have achieved the minimum requirements of this assignments satisfied 😁. \n",
    "Thank you for another interesting assignment!"
   ]
  },
  {
   "cell_type": "markdown",
   "metadata": {
    "deletable": false,
    "editable": false,
    "nbgrader": {
     "grade": false,
     "locked": true,
     "solution": false
    }
   },
   "source": [
    "# <font style=\"color:blue\">References</font>\n",
    "\n",
    "1. https://pytorch.org/tutorials/beginner/data_loading_tutorial.html\n",
    "1. https://pytorch.org/tutorials/beginner/saving_loading_models.html"
   ]
  }
 ],
 "metadata": {
  "kernelspec": {
   "display_name": "Python 3.8",
   "language": "python",
   "name": "python38"
  },
  "language_info": {
   "codemirror_mode": {
    "name": "ipython",
    "version": 3
   },
   "file_extension": ".py",
   "mimetype": "text/x-python",
   "name": "python",
   "nbconvert_exporter": "python",
   "pygments_lexer": "ipython3",
   "version": "3.8.7"
  }
 },
 "nbformat": 4,
 "nbformat_minor": 2
}
