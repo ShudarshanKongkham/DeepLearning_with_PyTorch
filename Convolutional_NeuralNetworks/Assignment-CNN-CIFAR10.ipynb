{
    "cells": [
        {
            "cell_type": "markdown",
            "metadata": {
                "deletable": false,
                "editable": false,
                "nbgrader": {
                    "grade": false,
                    "locked": true,
                    "solution": false
                }
            },
            "source": [
                "# <font style=\"color:blue\">Assignment: Implement a CNN for Image Classification on CIFAR10 dataset</font>\n",
                "\n",
                "We have seen how to implement a CNN (LeNet5 and LeNet with the batch norm) in the last section. We used MNIST and Fashion MNIST dataset which are grayscale or single channel datasets. In this assignment, you will implement a CNN Model ( similar to LeNet ) for classifying objects in the `CIFAR10` dataset. \n",
                "\n",
                "The CIFAR10 dataset has the following properties\n",
                "1. It has `10` classes.  \n",
                "1. It has colored images, so it has `3-channels`. \n",
                "1. The image shape is `32 x 32`.\n",
                "\n",
                "Samples of CIFAR10- dataset ([source](https://pytorch.org/tutorials/beginner/blitz/cifar10_tutorial.html?highlight=cifar)):\n",
                "\n",
                "<img src=\"https://www.learnopencv.com/wp-content/uploads/2020/01/c3_w3_cirar10.png\" width=700>\n",
                "\n",
                "\n",
                "# <font color='blue'>Marking Scheme</font>\n",
                "\n",
                "### <font style=\"color:green\">Maximum Points: 30\n",
                "\n",
                "<div>\n",
                "    <table>\n",
                "        <tr><td><h3>Sr. no.</h3></td> <td><h3>Problem</h3></td> <td><h3>Points</h3></td> </tr>\n",
                "        <tr><td><h3>1</h3></td> <td><h3>Implement the CNN Model</h3></td> <td><h3>10</h3></td> </tr>\n",
                "        <tr><td><h3>2</h3></td> <td><h3>Find Mean and Std of Training Data</h3></td> <td><h3>5</h3></td> </tr>\n",
                "        <tr><td><h3>3</h3></td> <td><h3>Model Training & Accuracy</h3></td> <td><h3>15</h3></td> </tr>\n",
                "    </table>\n",
                "</div>\n",
                "\n",
                "\n",
                "# <font color='blue'>Problem Description</font>\n",
                "\n",
                "### <font color='blue'>1. Implement the CNN Model</font>\n",
                "Since the task is to classify objects in a dataset of color images, you need to implement a CNN with 10 output classes. **Also, your model must use `Conv2d`, `BatchNorm2d`, and `ReLU`.** \n",
                "\n",
                "**You need to define the model architecture in the function: `MyModel` ( Step 1 )**\n",
                "\n",
                "Hint: For color images you need to use an input shape that is different than the ones we have been using till now, so that it accepts 3 channel inputs.\n",
                "\n",
                "### <font color='blue'>2. Find Mean and Std of Training Data</font>\n",
                "\n",
                "It is a good practice to normalize the training data. To normalize the data, we need to compute mean and std. As the dataset has colored images, it has `3-channel` (RGB or BGR). We have to find mean and std per channel using training data. \n",
                "\n",
                "**You need to compute the mean and std for the dataset in the function: `get_mean_std_train_data` ( Step 3 )**\n",
                "\n",
                "### <font color='blue'>3. Model Training and Accuracy</font>\n",
                "\n",
                "Once you have defined the model, you can train it. To get better accuracy, you need to play around the training configuration **( Step 5 )** and even the model architecture. You can check the accuracy by running the training loop in `Step 11`.\n",
                "\n",
                "Here are a few hints on how you can improve the accuracy:\n",
                "- Train for longer duration\n",
                "- Try with different learning rate\n",
                "- Try to add more convolutional layers to the architecture\n",
                "- Try to add more nodes in the layers.\n",
                "\n",
                "You need to achieve **75% accuracy** ( See Step11 ) in order to get full marks for this part. \n",
                "\n",
                "**You do not need to implement anything for this, just changing the parameters as mentioned above and running the Notebook will give you the accuracy. ( Step 5 and Step 11 )**"
            ]
        },
        {
            "cell_type": "markdown",
            "metadata": {
                "deletable": false,
                "editable": false,
                "nbgrader": {
                    "grade": false,
                    "locked": true,
                    "solution": false
                }
            },
            "source": [
                "Note that this notebook requires you to change a few stuff in the model to get the desired accuracy. Therefore you need train the model all over again (which seems to be time-consuming).   \n",
                "\n",
                "You can choose to execute this notebook in Google-Colab so that you have access to a GPU-machine and prototype faster.   \n",
                "\n",
                "Once the desired results are acheived, you can copy-paste the changes made in the Colab-notebook to this notebook so that the grading occurs on the latest code. \n",
                "\n",
                "You can access the Colab-notebook from [here](https://colab.research.google.com/drive/18lgSRmHPagJkB0xmDq5ZiWGkuWcHnUc2?usp=sharing)"
            ]
        },
        {
            "cell_type": "code",
            "execution_count": 1,
            "metadata": {
                "collapsed": true,
                "deletable": false,
                "editable": false,
                "nbgrader": {
                    "grade": false,
                    "locked": true,
                    "solution": false
                }
            },
            "outputs": [],
            "source": [
                "required_training = True"
            ]
        },
        {
            "cell_type": "code",
            "execution_count": 2,
            "metadata": {
                "deletable": false,
                "editable": false,
                "nbgrader": {
                    "grade": false,
                    "locked": true,
                    "solution": false
                }
            },
            "outputs": [],
            "source": [
                "%matplotlib inline"
            ]
        },
        {
            "cell_type": "code",
            "execution_count": 3,
            "metadata": {
                "collapsed": true,
                "deletable": false,
                "editable": false,
                "nbgrader": {
                    "grade": false,
                    "locked": true,
                    "solution": false
                }
            },
            "outputs": [],
            "source": [
                "import matplotlib.pyplot as plt  # one of the best graphics library for python"
            ]
        },
        {
            "cell_type": "code",
            "execution_count": 4,
            "metadata": {
                "collapsed": true,
                "deletable": false,
                "editable": false,
                "nbgrader": {
                    "grade": false,
                    "locked": true,
                    "solution": false
                }
            },
            "outputs": [],
            "source": [
                "import os\n",
                "import time\n",
                "\n",
                "from typing import Iterable\n",
                "from dataclasses import dataclass\n",
                "\n",
                "import numpy as np\n",
                "import torch\n",
                "import torch.nn as nn\n",
                "import torch.optim as optim\n",
                "import torch.nn.functional as F\n",
                "\n",
                "from torchvision import datasets, transforms\n",
                "import torchvision"
            ]
        },
        {
            "cell_type": "markdown",
            "metadata": {},
            "source": [
                "# <font style=\"color:blue\">1. CNN Model Architecture [10 Points]</font>\n",
                "\n",
                "You have to write the model code here. You can take reference from LeNet code.\n",
                "\n",
                "If you do not get higher accuracy, here are a few hints:\n",
                "- Try to add more convolutional layers to the architecture\n",
                "- Try to add more nodes in the layers.\n"
            ]
        },
        {
            "cell_type": "code",
            "execution_count": 5,
            "metadata": {
                "collapsed": true
            },
            "outputs": [],
            "source": [
                "class MyModel(nn.Module):\n",
                "    def __init__(self):\n",
                "        super(MyModel, self).__init__()\n",
                "        \n",
                "        # Convolution layers\n",
                "        self._body = nn.Sequential(\n",
                "            # First convolution Layer\n",
                "            # input size = (32, 32), output size = (28, 28)\n",
                "            nn.Conv2d(in_channels=3, out_channels=32, kernel_size=3, padding=1),\n",
                "            nn.BatchNorm2d(32),\n",
                "            nn.ReLU(inplace=True),\n",
                "            nn.MaxPool2d(kernel_size=2),\n",
                "            \n",
                "            # Second convolution layer\n",
                "            # input size = (16, 16), output size = (14, 14)\n",
                "            nn.Conv2d(in_channels=32, out_channels=64, kernel_size=3, padding=1),\n",
                "            nn.BatchNorm2d(64),\n",
                "            nn.ReLU(inplace=True),\n",
                "            nn.MaxPool2d(kernel_size=2),\n",
                "            \n",
                "            # Third convolution layer\n",
                "            # input size = (8, 8), output size = (6, 6)\n",
                "            nn.Conv2d(in_channels=64, out_channels=128, kernel_size=3, padding=1),\n",
                "            nn.BatchNorm2d(128),\n",
                "            nn.ReLU(inplace=True),\n",
                "            nn.MaxPool2d(kernel_size=2),\n",
                "            # output size = (4, 4)\n",
                "        )\n",
                "        \n",
                "        # Fully connected layers\n",
                "        self._head = nn.Sequential(\n",
                "            # First fully connected layer\n",
                "            # in_features = total number of weights in last conv layer = 128 * 4 * 4\n",
                "            nn.Linear(in_features=128 * 4 * 4, out_features=512), \n",
                "            nn.ReLU(inplace=True),\n",
                "            \n",
                "            # Second fully connected layer\n",
                "            nn.Linear(in_features=512, out_features=256), \n",
                "            nn.ReLU(inplace=True),\n",
                "            \n",
                "            # Third fully connected layer (output layer)\n",
                "            nn.Linear(in_features=256, out_features=10)\n",
                "        )\n",
                "\n",
                "    def forward(self, x):\n",
                "        # Apply feature extractor\n",
                "        x = self._body(x)\n",
                "        # Flatten the output of conv layers\n",
                "        x = x.view(x.size(0), -1)\n",
                "        # Apply classification head\n",
                "        x = self._head(x)\n",
                "        return x"
            ]
        },
        {
            "cell_type": "markdown",
            "metadata": {
                "deletable": false,
                "editable": false,
                "nbgrader": {
                    "grade": false,
                    "locked": true,
                    "solution": false
                }
            },
            "source": [
                "# <font style=\"color:blue\">2. Display the Network</font>"
            ]
        },
        {
            "cell_type": "code",
            "execution_count": 6,
            "metadata": {
                "deletable": false,
                "editable": false,
                "nbgrader": {
                    "grade": false,
                    "locked": true,
                    "solution": false
                }
            },
            "outputs": [
                {
                    "name": "stdout",
                    "output_type": "stream",
                    "text": [
                        "MyModel(\n",
                        "  (_body): Sequential(\n",
                        "    (0): Conv2d(3, 32, kernel_size=(3, 3), stride=(1, 1), padding=(1, 1))\n",
                        "    (1): BatchNorm2d(32, eps=1e-05, momentum=0.1, affine=True, track_running_stats=True)\n",
                        "    (2): ReLU(inplace=True)\n",
                        "    (3): MaxPool2d(kernel_size=2, stride=2, padding=0, dilation=1, ceil_mode=False)\n",
                        "    (4): Conv2d(32, 64, kernel_size=(3, 3), stride=(1, 1), padding=(1, 1))\n",
                        "    (5): BatchNorm2d(64, eps=1e-05, momentum=0.1, affine=True, track_running_stats=True)\n",
                        "    (6): ReLU(inplace=True)\n",
                        "    (7): MaxPool2d(kernel_size=2, stride=2, padding=0, dilation=1, ceil_mode=False)\n",
                        "    (8): Conv2d(64, 128, kernel_size=(3, 3), stride=(1, 1), padding=(1, 1))\n",
                        "    (9): BatchNorm2d(128, eps=1e-05, momentum=0.1, affine=True, track_running_stats=True)\n",
                        "    (10): ReLU(inplace=True)\n",
                        "    (11): MaxPool2d(kernel_size=2, stride=2, padding=0, dilation=1, ceil_mode=False)\n",
                        "  )\n",
                        "  (_head): Sequential(\n",
                        "    (0): Linear(in_features=2048, out_features=512, bias=True)\n",
                        "    (1): ReLU(inplace=True)\n",
                        "    (2): Linear(in_features=512, out_features=256, bias=True)\n",
                        "    (3): ReLU(inplace=True)\n",
                        "    (4): Linear(in_features=256, out_features=10, bias=True)\n",
                        "  )\n",
                        ")\n"
                    ]
                }
            ],
            "source": [
                "my_model = MyModel()\n",
                "print(my_model)"
            ]
        },
        {
            "cell_type": "code",
            "execution_count": 7,
            "metadata": {
                "collapsed": true,
                "deletable": false,
                "editable": false,
                "nbgrader": {
                    "grade": true,
                    "grade_id": "Conv2d",
                    "locked": true,
                    "points": "3",
                    "solution": false
                }
            },
            "outputs": [],
            "source": [
                "###\n",
                "### AUTOGRADER TEST - DO NOT REMOVE\n",
                "###\n"
            ]
        },
        {
            "cell_type": "code",
            "execution_count": 8,
            "metadata": {
                "collapsed": true,
                "deletable": false,
                "editable": false,
                "nbgrader": {
                    "grade": true,
                    "grade_id": "BatchNorm2d",
                    "locked": true,
                    "points": "2",
                    "solution": false
                }
            },
            "outputs": [],
            "source": [
                "###\n",
                "### AUTOGRADER TEST - DO NOT REMOVE\n",
                "###\n"
            ]
        },
        {
            "cell_type": "code",
            "execution_count": 9,
            "metadata": {
                "collapsed": true,
                "deletable": false,
                "editable": false,
                "nbgrader": {
                    "grade": true,
                    "grade_id": "ReLU",
                    "locked": true,
                    "points": "2",
                    "solution": false
                }
            },
            "outputs": [],
            "source": [
                "###\n",
                "### AUTOGRADER TEST - DO NOT REMOVE\n",
                "###\n"
            ]
        },
        {
            "cell_type": "code",
            "execution_count": 10,
            "metadata": {
                "collapsed": true,
                "deletable": false,
                "editable": false,
                "nbgrader": {
                    "grade": true,
                    "grade_id": "input-output",
                    "locked": true,
                    "points": "3",
                    "solution": false
                }
            },
            "outputs": [],
            "source": [
                "###\n",
                "### AUTOGRADER TEST - DO NOT REMOVE\n",
                "###\n"
            ]
        },
        {
            "cell_type": "markdown",
            "metadata": {
                "deletable": false,
                "editable": false,
                "lines_to_next_cell": 2,
                "nbgrader": {
                    "grade": false,
                    "locked": true,
                    "solution": false
                }
            },
            "source": [
                "# <font style=\"color:blue\">3. Find Mean and STD of CIFAR10 Data [5 Points]</font>\n",
                "\n",
                "Function **`get_mean_std_train_data`** should `return` `mean` and `std` of training data. You can refer to the code used in the previous section for finding the mean and std of the training data.\n",
                "\n"
            ]
        },
        {
            "cell_type": "code",
            "execution_count": 11,
            "metadata": {
                "collapsed": true,
                "nbgrader": {
                    "grade": false,
                    "locked": false,
                    "solution": false
                }
            },
            "outputs": [],
            "source": [
                "def get_mean_std_train_data(data_root):\n",
                "    # Define a transform to convert the images to tensors\n",
                "    train_transform = transforms.Compose([transforms.ToTensor()])\n",
                "    \n",
                "    # Load the CIFAR10 training dataset\n",
                "    train_set = datasets.CIFAR10(root=data_root, train=True, download=True, transform=train_transform)\n",
                "    \n",
                "    # Initialize variables to store the sum and sum of squares of pixel values\n",
                "    mean = 0.0\n",
                "    std = 0.0\n",
                "    num_samples = 0\n",
                "    \n",
                "    # Iterate over the dataset to compute the mean and standard deviation\n",
                "    for data in train_set:\n",
                "        image = data[0]\n",
                "        mean += image.mean([1, 2])\n",
                "        std += image.std([1, 2])\n",
                "        num_samples += 1\n",
                "    \n",
                "    # Compute the mean and standard deviation\n",
                "    mean /= num_samples\n",
                "    std /= num_samples\n",
                "    \n",
                "    # Convert to numpy arrays\n",
                "    mean = mean.numpy()\n",
                "    std = std.numpy()\n",
                "    \n",
                "    return mean, std"
            ]
        },
        {
            "cell_type": "code",
            "execution_count": 12,
            "metadata": {
                "collapsed": true,
                "deletable": false,
                "editable": false,
                "lines_to_next_cell": 2,
                "nbgrader": {
                    "grade": true,
                    "grade_id": "mean",
                    "locked": true,
                    "points": "2",
                    "solution": false
                }
            },
            "outputs": [],
            "source": [
                "###\n",
                "### AUTOGRADER TEST - DO NOT REMOVE\n",
                "###\n"
            ]
        },
        {
            "cell_type": "code",
            "execution_count": 13,
            "metadata": {
                "collapsed": true,
                "deletable": false,
                "editable": false,
                "lines_to_next_cell": 2,
                "nbgrader": {
                    "grade": true,
                    "grade_id": "std",
                    "locked": true,
                    "points": "3",
                    "solution": false
                }
            },
            "outputs": [],
            "source": [
                "###\n",
                "### AUTOGRADER TEST - DO NOT REMOVE\n",
                "###\n"
            ]
        },
        {
            "cell_type": "code",
            "execution_count": 14,
            "metadata": {
                "collapsed": true,
                "deletable": false,
                "editable": false,
                "nbgrader": {
                    "grade": false,
                    "locked": true,
                    "solution": false
                }
            },
            "outputs": [],
            "source": [
                "def get_data(batch_size, data_root, num_workers=1):\n",
                "    \n",
                "    \n",
                "    try:\n",
                "        mean, std = get_mean_std_train_data(data_root)\n",
                "        assert len(mean) == len(std) == 3\n",
                "    except:\n",
                "        mean = np.array([0.5, 0.5, 0.5])\n",
                "        std = np.array([0.5, 0.5, 0.5])\n",
                "        \n",
                "    \n",
                "    train_test_transforms = transforms.Compose([\n",
                "        # this re-scale image tensor values between 0-1. image_tensor /= 255\n",
                "        transforms.ToTensor(),\n",
                "        # subtract mean and divide by variance.\n",
                "        transforms.Normalize(mean, std)\n",
                "    ])\n",
                "    \n",
                "    # train dataloader\n",
                "    train_loader = torch.utils.data.DataLoader(\n",
                "        datasets.CIFAR10(root=data_root, train=True, download=False, transform=train_test_transforms),\n",
                "        batch_size=batch_size,\n",
                "        shuffle=True,\n",
                "        num_workers=num_workers\n",
                "    )\n",
                "    \n",
                "    # test dataloader\n",
                "    test_loader = torch.utils.data.DataLoader(\n",
                "        datasets.CIFAR10(root=data_root, train=False, download=False, transform=train_test_transforms),\n",
                "        batch_size=batch_size,\n",
                "        shuffle=False,\n",
                "        num_workers=num_workers\n",
                "    )\n",
                "    return train_loader, test_loader"
            ]
        },
        {
            "cell_type": "markdown",
            "metadata": {
                "deletable": false,
                "editable": false,
                "nbgrader": {
                    "grade": false,
                    "locked": true,
                    "solution": false
                }
            },
            "source": [
                "# <font style=\"color:blue\">4. System Configuration</font>\n"
            ]
        },
        {
            "cell_type": "code",
            "execution_count": 15,
            "metadata": {
                "collapsed": true,
                "deletable": false,
                "editable": false,
                "nbgrader": {
                    "grade": false,
                    "locked": true,
                    "solution": false
                }
            },
            "outputs": [],
            "source": [
                "@dataclass\n",
                "class SystemConfiguration:\n",
                "    '''\n",
                "    Describes the common system setting needed for reproducible training\n",
                "    '''\n",
                "    seed: int = 42  # seed number to set the state of all random number generators\n",
                "    cudnn_benchmark_enabled: bool = True  # enable CuDNN benchmark for the sake of performance\n",
                "    cudnn_deterministic: bool = True  # make cudnn deterministic (reproducible training)"
            ]
        },
        {
            "cell_type": "markdown",
            "metadata": {
                "deletable": false,
                "editable": false,
                "nbgrader": {
                    "grade": false,
                    "locked": true,
                    "solution": false
                }
            },
            "source": [
                "# <font style=\"color:blue\">5. Training Configuration [15 Points]</font>\n",
                "All training parameters are defined here. So, \n",
                "This is where you can improve your accuracy, apart from improving the architecture. \n",
                "\n",
                "Here are a few hints on how you can improve the accuracy:\n",
                "- Train for longer duration\n",
                "- Try with different learning rate\n",
                "\n",
                "**You need to achieve 75% accuracy in order to get full marks for this part.**\n",
                "\n",
                "**You will see the effect of these changes when you run Step 11**"
            ]
        },
        {
            "cell_type": "code",
            "execution_count": 16,
            "metadata": {
                "collapsed": true,
                "nbgrader": {
                    "grade": false,
                    "locked": false,
                    "solution": false
                }
            },
            "outputs": [],
            "source": [
                "@dataclass\n",
                "class TrainingConfiguration:\n",
                "    '''\n",
                "    Describes configuration of the training process\n",
                "    '''\n",
                "    batch_size: int = 16  # amount of data to pass through the network at each forward-backward iteration\n",
                "    epochs_count: int = 2  # number of times the whole dataset will be passed through the network\n",
                "    learning_rate: float = 0.1  # determines the speed of network's weights update\n",
                "        \n",
                "    log_interval: int = 100  # how many batches to wait between logging training status\n",
                "    test_interval: int = 1  # how many epochs to wait before another test. Set to 1 to get val loss at each epoch\n",
                "    data_root: str = \"../resource/lib/publicdata/images\"  # folder to save data\n",
                "    num_workers: int = 10  # number of concurrent processes using to prepare data\n",
                "    device: str = 'cuda'  # device to use for training.\n",
                "    # update changed parameters in blow coding block.\n",
                "    # Please do not change \"data_root\" \n",
                "    \n",
                "    ###\n",
                "    momentum: float = 0.9  # Momentum for the SGD optimizer\n",
                "    weight_decay: float = 1e-4  # Weight decay for the optimizer\n",
                "    lr_scheduler_step_size: int = 10  # Step size for the learning rate scheduler\n",
                "    lr_scheduler_gamma: float = 0.1  # Multiplicative factor of learning rate decay\n",
                "    random_seed: int = 42  # Random seed for reproducibility\n",
                "    model_save_path: str = \"./model.pth\"  # Path to save the trained model\n",
                "    ###\n"
            ]
        },
        {
            "cell_type": "code",
            "execution_count": 17,
            "metadata": {},
            "outputs": [],
            "source": [
                "@dataclass\n",
                "class TrainingConfiguration:\n",
                "    '''\n",
                "    Describes configuration of the training process\n",
                "    '''\n",
                "    batch_size: int = 64  # Amount of data to pass through the network at each forward-backward iteration\n",
                "    epochs_count: int = 50  # Number of times the whole dataset will be passed through the network\n",
                "    learning_rate: float = 0.01  # Determines the speed of network's weights update\n",
                "        \n",
                "    log_interval: int = 100  # How many batches to wait between logging training status\n",
                "    test_interval: int = 1  # How many epochs to wait before another test. Set to 1 to get val loss at each epoch\n",
                "    data_root: str = \"../resource/lib/publicdata/images\"  # Folder to save data\n",
                "    num_workers: int = 4  # Number of concurrent processes using to prepare data\n",
                "    device: str = 'cuda'  # Device to use for training. Use 'cuda' for GPU or 'cpu' for CPU\n",
                "    \n",
                "    momentum: float = 0.9  # Momentum for the SGD optimizer\n",
                "    weight_decay: float = 5e-4  # Weight decay for the optimizer\n",
                "    lr_scheduler_step_size: int = 20  # Step size for the learning rate scheduler\n",
                "    lr_scheduler_gamma: float = 0.1  # Multiplicative factor of learning rate decay\n",
                "    random_seed: int = 42  # Random seed for reproducibility\n",
                "    model_save_path: str = \"./model.pth\"  # Path to save the trained model"
            ]
        },
        {
            "cell_type": "markdown",
            "metadata": {
                "deletable": false,
                "editable": false,
                "nbgrader": {
                    "grade": false,
                    "locked": true,
                    "solution": false
                }
            },
            "source": [
                "# <font style=\"color:blue\">6. System Setup</font>\n"
            ]
        },
        {
            "cell_type": "code",
            "execution_count": 18,
            "metadata": {
                "collapsed": true,
                "deletable": false,
                "editable": false,
                "nbgrader": {
                    "grade": false,
                    "locked": true,
                    "solution": false
                }
            },
            "outputs": [],
            "source": [
                "def setup_system(system_config: SystemConfiguration) -> None:\n",
                "    torch.manual_seed(system_config.seed)\n",
                "    if torch.cuda.is_available():\n",
                "        torch.backends.cudnn_benchmark_enabled = system_config.cudnn_benchmark_enabled\n",
                "        torch.backends.cudnn.deterministic = system_config.cudnn_deterministic"
            ]
        },
        {
            "cell_type": "markdown",
            "metadata": {
                "deletable": false,
                "editable": false,
                "nbgrader": {
                    "grade": false,
                    "locked": true,
                    "solution": false
                }
            },
            "source": [
                "# <font style=\"color:blue\">7. Training</font>\n",
                "We are familiar with the training pipeline used in PyTorch. The following steps are performed in the code below:\n",
                "\n",
                "1. Send the data to the required device ( CPU/GPU )\n",
                "1. Make a forward pass using the forward method.\n",
                "1. Find the loss using the Cross_Entropy function.\n",
                "1. Find the gradients using the backward function.\n",
                "1. Update the weights using the optimizer.\n",
                "1. Find the accuracy of the model\n",
                "\n",
                "Repeat the above for the specified number of epochs."
            ]
        },
        {
            "cell_type": "code",
            "execution_count": 19,
            "metadata": {
                "collapsed": true,
                "deletable": false,
                "editable": false,
                "nbgrader": {
                    "grade": false,
                    "locked": true,
                    "solution": false
                }
            },
            "outputs": [],
            "source": [
                "def train(\n",
                "    train_config: TrainingConfiguration, model: nn.Module, optimizer: torch.optim.Optimizer,\n",
                "    train_loader: torch.utils.data.DataLoader, epoch_idx: int\n",
                ") -> None:\n",
                "    \n",
                "    # change model in training mood\n",
                "    model.train()\n",
                "    \n",
                "    # to get batch loss\n",
                "    batch_loss = np.array([])\n",
                "    \n",
                "    # to get batch accuracy\n",
                "    batch_acc = np.array([])\n",
                "        \n",
                "    for batch_idx, (data, target) in enumerate(train_loader):\n",
                "        \n",
                "        # clone target\n",
                "        indx_target = target.clone()\n",
                "        # send data to device (its is medatory if GPU has to be used)\n",
                "        data = data.to(train_config.device)\n",
                "        # send target to device\n",
                "        target = target.to(train_config.device)\n",
                "\n",
                "        # reset parameters gradient to zero\n",
                "        optimizer.zero_grad()\n",
                "        \n",
                "        # forward pass to the model\n",
                "        output = model(data)\n",
                "        \n",
                "        # cross entropy loss\n",
                "        loss = F.cross_entropy(output, target)\n",
                "        \n",
                "        # find gradients w.r.t training parameters\n",
                "        loss.backward()\n",
                "        # Update parameters using gardients\n",
                "        optimizer.step()\n",
                "        \n",
                "        batch_loss = np.append(batch_loss, [loss.item()])\n",
                "        \n",
                "        # Score to probability using softmax\n",
                "        prob = F.softmax(output, dim=1)\n",
                "            \n",
                "        # get the index of the max probability\n",
                "        pred = prob.data.max(dim=1)[1]  \n",
                "                        \n",
                "        # correct prediction\n",
                "        correct = pred.cpu().eq(indx_target).sum()\n",
                "            \n",
                "        # accuracy\n",
                "        acc = float(correct) / float(len(data))\n",
                "        \n",
                "        batch_acc = np.append(batch_acc, [acc])\n",
                "\n",
                "        if batch_idx % train_config.log_interval == 0 and batch_idx > 0:              \n",
                "            print(\n",
                "                'Train Epoch: {} [{}/{}] Loss: {:.6f} Acc: {:.4f}'.format(\n",
                "                    epoch_idx, batch_idx * len(data), len(train_loader.dataset), loss.item(), acc\n",
                "                )\n",
                "            )\n",
                "            \n",
                "    epoch_loss = batch_loss.mean()\n",
                "    epoch_acc = batch_acc.mean()\n",
                "    return epoch_loss, epoch_acc"
            ]
        },
        {
            "cell_type": "markdown",
            "metadata": {
                "deletable": false,
                "editable": false,
                "nbgrader": {
                    "grade": false,
                    "locked": true,
                    "solution": false
                }
            },
            "source": [
                "# <font style=\"color:blue\">8. Validation</font>\n",
                "\n",
                "After every few epochs **`validation`** will be called with the `trained model` and `test_loader` to get validation loss and accuracy."
            ]
        },
        {
            "cell_type": "code",
            "execution_count": 20,
            "metadata": {
                "collapsed": true,
                "deletable": false,
                "editable": false,
                "nbgrader": {
                    "grade": false,
                    "locked": true,
                    "solution": false
                }
            },
            "outputs": [],
            "source": [
                "def validate(\n",
                "    train_config: TrainingConfiguration,\n",
                "    model: nn.Module,\n",
                "    test_loader: torch.utils.data.DataLoader,\n",
                ") -> float:\n",
                "    model.eval()\n",
                "    test_loss = 0\n",
                "    count_corect_predictions = 0\n",
                "    for data, target in test_loader:\n",
                "        indx_target = target.clone()\n",
                "        data = data.to(train_config.device)\n",
                "        \n",
                "        target = target.to(train_config.device)\n",
                "        \n",
                "        output = model(data)\n",
                "        # add loss for each mini batch\n",
                "        test_loss += F.cross_entropy(output, target).item()\n",
                "        \n",
                "        # Score to probability using softmax\n",
                "        prob = F.softmax(output, dim=1)\n",
                "        \n",
                "        # get the index of the max probability\n",
                "        pred = prob.data.max(dim=1)[1] \n",
                "        \n",
                "        # add correct prediction count\n",
                "        count_corect_predictions += pred.cpu().eq(indx_target).sum()\n",
                "\n",
                "    # average over number of mini-batches\n",
                "    test_loss = test_loss / len(test_loader)  \n",
                "    \n",
                "    # average over number of dataset\n",
                "    accuracy = 100. * count_corect_predictions / len(test_loader.dataset)\n",
                "    \n",
                "    print(\n",
                "        '\\nTest set: Average loss: {:.4f}, Accuracy: {}/{} ({:.0f}%)\\n'.format(\n",
                "            test_loss, count_corect_predictions, len(test_loader.dataset), accuracy\n",
                "        )\n",
                "    )\n",
                "    return test_loss, accuracy/100.0"
            ]
        },
        {
            "cell_type": "markdown",
            "metadata": {
                "deletable": false,
                "editable": false,
                "nbgrader": {
                    "grade": false,
                    "locked": true,
                    "solution": false
                }
            },
            "source": [
                "# <font style=\"color:blue\">9. Saving the Model</font>"
            ]
        },
        {
            "cell_type": "code",
            "execution_count": 21,
            "metadata": {
                "collapsed": true,
                "deletable": false,
                "editable": false,
                "nbgrader": {
                    "grade": false,
                    "locked": true,
                    "solution": false
                }
            },
            "outputs": [],
            "source": [
                "def save_model(model, device, model_dir='models', model_file_name='cifar10_cnn_model.pt'):\n",
                "    \n",
                "\n",
                "    if not os.path.exists(model_dir):\n",
                "        os.makedirs(model_dir)\n",
                "\n",
                "    model_path = os.path.join(model_dir, model_file_name)\n",
                "\n",
                "    # make sure you transfer the model to cpu.\n",
                "    if device == 'cuda':\n",
                "        model.to('cpu')\n",
                "\n",
                "    # save the state_dict\n",
                "    if int(torch.__version__.split('.')[1]) >= 6:\n",
                "        torch.save(model.state_dict(), model_path, _use_new_zipfile_serialization=False)\n",
                "    \n",
                "    else:\n",
                "        torch.save(model.state_dict(), model_path)\n",
                "    \n",
                "    if device == 'cuda':\n",
                "        model.to('cuda')\n",
                "    \n",
                "    return"
            ]
        },
        {
            "cell_type": "markdown",
            "metadata": {
                "deletable": false,
                "editable": false,
                "nbgrader": {
                    "grade": false,
                    "locked": true,
                    "solution": false
                }
            },
            "source": [
                "# <font style=\"color:blue\">10. Main</font>\n",
                "\n",
                "In this section of code, we use the configuration parameters defined above and start the training. Here are the important actions being taken in the code below:\n",
                "\n",
                "1. Set up system parameters like CPU/GPU, number of threads etc\n",
                "1. Load the data using dataloaders\n",
                "1. Create an instance of the LeNet model\n",
                "1. Specify optimizer to use.\n",
                "1. Set up variables to track loss and accuracy and start training.\n",
                "1. If loss decreases, saving the model"
            ]
        },
        {
            "cell_type": "code",
            "execution_count": 22,
            "metadata": {
                "collapsed": true,
                "deletable": false,
                "editable": false,
                "nbgrader": {
                    "grade": false,
                    "locked": true,
                    "solution": false
                }
            },
            "outputs": [],
            "source": [
                "def main(system_configuration=SystemConfiguration(), training_configuration=TrainingConfiguration()):\n",
                "    \n",
                "    # system configuration\n",
                "    setup_system(system_configuration)\n",
                "\n",
                "    # batch size\n",
                "    batch_size_to_set = training_configuration.batch_size\n",
                "    # num_workers\n",
                "    num_workers_to_set = training_configuration.num_workers\n",
                "    # epochs\n",
                "    epoch_num_to_set = training_configuration.epochs_count\n",
                "\n",
                "    # if GPU is available use training config, \n",
                "    # else lowers batch_size, num_workers and epochs count\n",
                "    if torch.cuda.is_available():\n",
                "        device = \"cuda\"\n",
                "        print(\"Using CUDA 🥁\")\n",
                "    else:\n",
                "        device = \"cpu\"\n",
                "        num_workers_to_set = 2\n",
                "\n",
                "    # data loader\n",
                "    train_loader, test_loader = get_data(\n",
                "        batch_size=training_configuration.batch_size,\n",
                "        data_root=training_configuration.data_root,\n",
                "        num_workers=num_workers_to_set\n",
                "    )\n",
                "    \n",
                "    # Update training configuration\n",
                "    training_configuration = TrainingConfiguration(\n",
                "        device=device,\n",
                "        num_workers=num_workers_to_set\n",
                "    )\n",
                "\n",
                "    # initiate model\n",
                "    model = MyModel()\n",
                "        \n",
                "    # send model to device (GPU/CPU)\n",
                "    model.to(training_configuration.device)\n",
                "\n",
                "    # optimizer\n",
                "    optimizer = optim.SGD(\n",
                "        model.parameters(),\n",
                "        lr=training_configuration.learning_rate\n",
                "    )\n",
                "\n",
                "    best_loss = torch.tensor(np.inf)\n",
                "    best_accuracy = torch.tensor(0)\n",
                "    \n",
                "    # epoch train/test loss\n",
                "    epoch_train_loss = np.array([])\n",
                "    epoch_test_loss = np.array([])\n",
                "    \n",
                "    # epch train/test accuracy\n",
                "    epoch_train_acc = np.array([])\n",
                "    epoch_test_acc = np.array([])\n",
                "    \n",
                "    # trainig time measurement\n",
                "    t_begin = time.time()\n",
                "    for epoch in range(training_configuration.epochs_count):\n",
                "        \n",
                "        train_loss, train_acc = train(training_configuration, model, optimizer, train_loader, epoch)\n",
                "        \n",
                "        epoch_train_loss = np.append(epoch_train_loss, [train_loss])\n",
                "        \n",
                "        epoch_train_acc = np.append(epoch_train_acc, [train_acc])\n",
                "\n",
                "        elapsed_time = time.time() - t_begin\n",
                "        speed_epoch = elapsed_time / (epoch + 1)\n",
                "        speed_batch = speed_epoch / len(train_loader)\n",
                "        eta = speed_epoch * training_configuration.epochs_count - elapsed_time\n",
                "        \n",
                "        print(\n",
                "            \"Elapsed {:.2f}s, {:.2f} s/epoch, {:.2f} s/batch, ets {:.2f}s\".format(\n",
                "                elapsed_time, speed_epoch, speed_batch, eta\n",
                "            )\n",
                "        )\n",
                "\n",
                "        if epoch % training_configuration.test_interval == 0:\n",
                "            current_loss, current_accuracy = validate(training_configuration, model, test_loader)\n",
                "            \n",
                "            epoch_test_loss = np.append(epoch_test_loss, [current_loss])\n",
                "        \n",
                "            epoch_test_acc = np.append(epoch_test_acc, [current_accuracy])\n",
                "            \n",
                "            if current_loss < best_loss:\n",
                "                best_loss = current_loss\n",
                "            \n",
                "            if current_accuracy > best_accuracy:\n",
                "                best_accuracy = current_accuracy\n",
                "                print('Accuracy improved, saving the model.\\n')\n",
                "                save_model(model, device)\n",
                "            \n",
                "                \n",
                "    print(\"Total time: {:.2f}, Best Loss: {:.3f}, Best Accuracy: {:.3f}\".format(time.time() - t_begin, best_loss, \n",
                "                                                                                best_accuracy))\n",
                "    \n",
                "    return model, epoch_train_loss, epoch_train_acc, epoch_test_loss, epoch_test_acc"
            ]
        },
        {
            "cell_type": "code",
            "execution_count": 23,
            "metadata": {
                "deletable": false,
                "editable": false,
                "nbgrader": {
                    "grade": true,
                    "grade_id": "Accuracy",
                    "locked": true,
                    "points": "15",
                    "solution": false
                }
            },
            "outputs": [],
            "source": [
                "###\n",
                "### AUTOGRADER TEST - DO NOT REMOVE\n",
                "###\n"
            ]
        },
        {
            "cell_type": "markdown",
            "metadata": {},
            "source": [
                "# <font style=\"color:blue\">Step 11: Start Training</font>\n",
                "This is where you start the training. You may see that the training does not converge or does not give a good accuracy. You need to change \n",
                "- In Step 1: the network architecture and add a few more layers or more nodes to the already existing layers\n",
                "- In Step 5: training parameters such as learning rate or batch_size or epochs so that the network converges or run the network for longer so that it gets more time to fit the data\n",
                "\n",
                "**You need to make sure that the accuracy at the end is at least 75%.**"
            ]
        },
        {
            "cell_type": "code",
            "execution_count": 24,
            "metadata": {
                "deletable": false,
                "editable": false,
                "nbgrader": {
                    "grade": false,
                    "locked": true,
                    "solution": false
                },
                "scrolled": true
            },
            "outputs": [
                {
                    "name": "stdout",
                    "output_type": "stream",
                    "text": [
                        "Using CUDA 🥁\n"
                    ]
                },
                {
                    "name": "stdout",
                    "output_type": "stream",
                    "text": [
                        "Files already downloaded and verified\n",
                        "Train Epoch: 0 [6400/50000] Loss: 1.997455 Acc: 0.2969\n",
                        "Train Epoch: 0 [12800/50000] Loss: 1.685113 Acc: 0.4062\n",
                        "Train Epoch: 0 [19200/50000] Loss: 1.533821 Acc: 0.4375\n",
                        "Train Epoch: 0 [25600/50000] Loss: 1.407735 Acc: 0.4219\n",
                        "Train Epoch: 0 [32000/50000] Loss: 1.427314 Acc: 0.4844\n",
                        "Train Epoch: 0 [38400/50000] Loss: 1.311684 Acc: 0.5469\n",
                        "Train Epoch: 0 [44800/50000] Loss: 1.202472 Acc: 0.5000\n",
                        "Elapsed 21.03s, 21.03 s/epoch, 0.03 s/batch, ets 1030.33s\n",
                        "\n",
                        "Test set: Average loss: 1.6723, Accuracy: 3913/10000 (39%)\n",
                        "\n",
                        "Accuracy improved, saving the model.\n",
                        "\n",
                        "Train Epoch: 1 [6400/50000] Loss: 1.170895 Acc: 0.5312\n",
                        "Train Epoch: 1 [12800/50000] Loss: 1.143052 Acc: 0.5781\n",
                        "Train Epoch: 1 [19200/50000] Loss: 1.144428 Acc: 0.6406\n",
                        "Train Epoch: 1 [25600/50000] Loss: 1.024925 Acc: 0.6250\n",
                        "Train Epoch: 1 [32000/50000] Loss: 0.940525 Acc: 0.6562\n",
                        "Train Epoch: 1 [38400/50000] Loss: 0.980343 Acc: 0.6406\n",
                        "Train Epoch: 1 [44800/50000] Loss: 1.093887 Acc: 0.5781\n",
                        "Elapsed 55.45s, 27.73 s/epoch, 0.04 s/batch, ets 1330.87s\n",
                        "\n",
                        "Test set: Average loss: 1.3006, Accuracy: 5219/10000 (52%)\n",
                        "\n",
                        "Accuracy improved, saving the model.\n",
                        "\n",
                        "Train Epoch: 2 [6400/50000] Loss: 0.905469 Acc: 0.6719\n",
                        "Train Epoch: 2 [12800/50000] Loss: 0.985366 Acc: 0.6406\n",
                        "Train Epoch: 2 [19200/50000] Loss: 0.859420 Acc: 0.6719\n",
                        "Train Epoch: 2 [25600/50000] Loss: 0.984990 Acc: 0.6562\n",
                        "Train Epoch: 2 [32000/50000] Loss: 0.855606 Acc: 0.7188\n",
                        "Train Epoch: 2 [38400/50000] Loss: 0.929541 Acc: 0.6406\n",
                        "Train Epoch: 2 [44800/50000] Loss: 1.122919 Acc: 0.5625\n",
                        "Elapsed 89.86s, 29.95 s/epoch, 0.04 s/batch, ets 1407.87s\n",
                        "\n",
                        "Test set: Average loss: 1.1695, Accuracy: 5891/10000 (59%)\n",
                        "\n",
                        "Accuracy improved, saving the model.\n",
                        "\n",
                        "Train Epoch: 3 [6400/50000] Loss: 0.997850 Acc: 0.6875\n",
                        "Train Epoch: 3 [12800/50000] Loss: 0.764496 Acc: 0.7031\n",
                        "Train Epoch: 3 [19200/50000] Loss: 0.747944 Acc: 0.7031\n",
                        "Train Epoch: 3 [25600/50000] Loss: 1.032017 Acc: 0.6406\n",
                        "Train Epoch: 3 [32000/50000] Loss: 0.661676 Acc: 0.7812\n",
                        "Train Epoch: 3 [38400/50000] Loss: 0.786597 Acc: 0.7344\n",
                        "Train Epoch: 3 [44800/50000] Loss: 0.711220 Acc: 0.7656\n",
                        "Elapsed 124.37s, 31.09 s/epoch, 0.04 s/batch, ets 1430.25s\n",
                        "\n",
                        "Test set: Average loss: 1.0836, Accuracy: 6262/10000 (63%)\n",
                        "\n",
                        "Accuracy improved, saving the model.\n",
                        "\n",
                        "Train Epoch: 4 [6400/50000] Loss: 0.700756 Acc: 0.7656\n",
                        "Train Epoch: 4 [12800/50000] Loss: 1.007668 Acc: 0.6406\n",
                        "Train Epoch: 4 [19200/50000] Loss: 0.895177 Acc: 0.6719\n",
                        "Train Epoch: 4 [25600/50000] Loss: 0.480546 Acc: 0.8594\n",
                        "Train Epoch: 4 [32000/50000] Loss: 1.059595 Acc: 0.6875\n",
                        "Train Epoch: 4 [38400/50000] Loss: 0.590102 Acc: 0.7812\n",
                        "Train Epoch: 4 [44800/50000] Loss: 1.048316 Acc: 0.6719\n",
                        "Elapsed 158.57s, 31.71 s/epoch, 0.04 s/batch, ets 1427.09s\n",
                        "\n",
                        "Test set: Average loss: 0.8472, Accuracy: 7060/10000 (71%)\n",
                        "\n",
                        "Accuracy improved, saving the model.\n",
                        "\n",
                        "Train Epoch: 5 [6400/50000] Loss: 0.743567 Acc: 0.7031\n",
                        "Train Epoch: 5 [12800/50000] Loss: 0.550258 Acc: 0.8125\n",
                        "Train Epoch: 5 [19200/50000] Loss: 0.586828 Acc: 0.7812\n",
                        "Train Epoch: 5 [25600/50000] Loss: 0.757761 Acc: 0.7031\n",
                        "Train Epoch: 5 [32000/50000] Loss: 0.571462 Acc: 0.8438\n",
                        "Train Epoch: 5 [38400/50000] Loss: 0.805680 Acc: 0.7188\n",
                        "Train Epoch: 5 [44800/50000] Loss: 0.754349 Acc: 0.7031\n",
                        "Elapsed 192.90s, 32.15 s/epoch, 0.04 s/batch, ets 1414.58s\n",
                        "\n",
                        "Test set: Average loss: 0.9757, Accuracy: 6690/10000 (67%)\n",
                        "\n",
                        "Train Epoch: 6 [6400/50000] Loss: 0.754351 Acc: 0.7500\n",
                        "Train Epoch: 6 [12800/50000] Loss: 0.649087 Acc: 0.7656\n",
                        "Train Epoch: 6 [19200/50000] Loss: 0.737364 Acc: 0.7344\n",
                        "Train Epoch: 6 [25600/50000] Loss: 0.584525 Acc: 0.7656\n",
                        "Train Epoch: 6 [32000/50000] Loss: 0.645936 Acc: 0.6875\n",
                        "Train Epoch: 6 [38400/50000] Loss: 0.785033 Acc: 0.7500\n",
                        "Train Epoch: 6 [44800/50000] Loss: 0.527297 Acc: 0.8281\n",
                        "Elapsed 226.90s, 32.41 s/epoch, 0.04 s/batch, ets 1393.80s\n",
                        "\n",
                        "Test set: Average loss: 1.4946, Accuracy: 5412/10000 (54%)\n",
                        "\n",
                        "Train Epoch: 7 [6400/50000] Loss: 0.601242 Acc: 0.8594\n",
                        "Train Epoch: 7 [12800/50000] Loss: 0.641736 Acc: 0.8125\n",
                        "Train Epoch: 7 [19200/50000] Loss: 0.661982 Acc: 0.7812\n",
                        "Train Epoch: 7 [25600/50000] Loss: 0.552700 Acc: 0.8281\n",
                        "Train Epoch: 7 [32000/50000] Loss: 0.673919 Acc: 0.6875\n",
                        "Train Epoch: 7 [38400/50000] Loss: 0.411037 Acc: 0.8438\n",
                        "Train Epoch: 7 [44800/50000] Loss: 0.645339 Acc: 0.7344\n",
                        "Elapsed 260.82s, 32.60 s/epoch, 0.04 s/batch, ets 1369.33s\n",
                        "\n",
                        "Test set: Average loss: 1.3831, Accuracy: 5828/10000 (58%)\n",
                        "\n",
                        "Train Epoch: 8 [6400/50000] Loss: 0.429231 Acc: 0.8750\n",
                        "Train Epoch: 8 [12800/50000] Loss: 0.457917 Acc: 0.8281\n",
                        "Train Epoch: 8 [19200/50000] Loss: 0.634852 Acc: 0.7344\n",
                        "Train Epoch: 8 [25600/50000] Loss: 0.593604 Acc: 0.7969\n",
                        "Train Epoch: 8 [32000/50000] Loss: 0.669935 Acc: 0.7500\n",
                        "Train Epoch: 8 [38400/50000] Loss: 0.603573 Acc: 0.7188\n",
                        "Train Epoch: 8 [44800/50000] Loss: 0.493601 Acc: 0.8438\n",
                        "Elapsed 295.27s, 32.81 s/epoch, 0.04 s/batch, ets 1345.13s\n",
                        "\n",
                        "Test set: Average loss: 0.9329, Accuracy: 6967/10000 (70%)\n",
                        "\n",
                        "Train Epoch: 9 [6400/50000] Loss: 0.343234 Acc: 0.8906\n",
                        "Train Epoch: 9 [12800/50000] Loss: 0.586181 Acc: 0.7656\n",
                        "Train Epoch: 9 [19200/50000] Loss: 0.471227 Acc: 0.8594\n",
                        "Train Epoch: 9 [25600/50000] Loss: 0.408063 Acc: 0.8594\n",
                        "Train Epoch: 9 [32000/50000] Loss: 0.577879 Acc: 0.8281\n",
                        "Train Epoch: 9 [38400/50000] Loss: 0.347884 Acc: 0.9062\n",
                        "Train Epoch: 9 [44800/50000] Loss: 0.468387 Acc: 0.7969\n",
                        "Elapsed 329.26s, 32.93 s/epoch, 0.04 s/batch, ets 1317.04s\n",
                        "\n",
                        "Test set: Average loss: 1.1658, Accuracy: 6329/10000 (63%)\n",
                        "\n",
                        "Train Epoch: 10 [6400/50000] Loss: 0.545496 Acc: 0.8125\n",
                        "Train Epoch: 10 [12800/50000] Loss: 0.349823 Acc: 0.8750\n",
                        "Train Epoch: 10 [19200/50000] Loss: 0.354113 Acc: 0.8125\n",
                        "Train Epoch: 10 [25600/50000] Loss: 0.259875 Acc: 0.9219\n",
                        "Train Epoch: 10 [32000/50000] Loss: 0.412355 Acc: 0.9062\n",
                        "Train Epoch: 10 [38400/50000] Loss: 0.558056 Acc: 0.7969\n",
                        "Train Epoch: 10 [44800/50000] Loss: 0.381306 Acc: 0.8438\n",
                        "Elapsed 362.88s, 32.99 s/epoch, 0.04 s/batch, ets 1286.57s\n",
                        "\n",
                        "Test set: Average loss: 0.8642, Accuracy: 7211/10000 (72%)\n",
                        "\n",
                        "Accuracy improved, saving the model.\n",
                        "\n",
                        "Train Epoch: 11 [6400/50000] Loss: 0.467754 Acc: 0.8750\n",
                        "Train Epoch: 11 [12800/50000] Loss: 0.379789 Acc: 0.8594\n",
                        "Train Epoch: 11 [19200/50000] Loss: 0.305781 Acc: 0.8906\n",
                        "Train Epoch: 11 [25600/50000] Loss: 0.326620 Acc: 0.8438\n",
                        "Train Epoch: 11 [32000/50000] Loss: 0.338141 Acc: 0.8906\n",
                        "Train Epoch: 11 [38400/50000] Loss: 0.554712 Acc: 0.7969\n",
                        "Train Epoch: 11 [44800/50000] Loss: 0.371584 Acc: 0.8594\n",
                        "Elapsed 396.44s, 33.04 s/epoch, 0.04 s/batch, ets 1255.38s\n",
                        "\n",
                        "Test set: Average loss: 1.2291, Accuracy: 6525/10000 (65%)\n",
                        "\n",
                        "Train Epoch: 12 [6400/50000] Loss: 0.256997 Acc: 0.9219\n",
                        "Train Epoch: 12 [12800/50000] Loss: 0.237096 Acc: 0.9219\n",
                        "Train Epoch: 12 [19200/50000] Loss: 0.520822 Acc: 0.8125\n",
                        "Train Epoch: 12 [25600/50000] Loss: 0.381324 Acc: 0.8594\n",
                        "Train Epoch: 12 [32000/50000] Loss: 0.358016 Acc: 0.8594\n",
                        "Train Epoch: 12 [38400/50000] Loss: 0.441134 Acc: 0.8281\n",
                        "Train Epoch: 12 [44800/50000] Loss: 0.399056 Acc: 0.8906\n",
                        "Elapsed 429.52s, 33.04 s/epoch, 0.04 s/batch, ets 1222.48s\n",
                        "\n",
                        "Test set: Average loss: 0.8281, Accuracy: 7354/10000 (74%)\n",
                        "\n",
                        "Accuracy improved, saving the model.\n",
                        "\n",
                        "Train Epoch: 13 [6400/50000] Loss: 0.248413 Acc: 0.9375\n",
                        "Train Epoch: 13 [12800/50000] Loss: 0.292523 Acc: 0.8906\n",
                        "Train Epoch: 13 [19200/50000] Loss: 0.342215 Acc: 0.8281\n",
                        "Train Epoch: 13 [25600/50000] Loss: 0.306789 Acc: 0.8594\n",
                        "Train Epoch: 13 [32000/50000] Loss: 0.349584 Acc: 0.8438\n",
                        "Train Epoch: 13 [38400/50000] Loss: 0.282460 Acc: 0.9062\n",
                        "Train Epoch: 13 [44800/50000] Loss: 0.419955 Acc: 0.8594\n",
                        "Elapsed 462.79s, 33.06 s/epoch, 0.04 s/batch, ets 1190.04s\n",
                        "\n",
                        "Test set: Average loss: 0.9983, Accuracy: 7097/10000 (71%)\n",
                        "\n",
                        "Train Epoch: 14 [6400/50000] Loss: 0.353310 Acc: 0.8594\n",
                        "Train Epoch: 14 [12800/50000] Loss: 0.184976 Acc: 0.9219\n",
                        "Train Epoch: 14 [19200/50000] Loss: 0.403724 Acc: 0.8125\n",
                        "Train Epoch: 14 [25600/50000] Loss: 0.220139 Acc: 0.9531\n",
                        "Train Epoch: 14 [32000/50000] Loss: 0.433567 Acc: 0.8438\n",
                        "Train Epoch: 14 [38400/50000] Loss: 0.491301 Acc: 0.7969\n",
                        "Train Epoch: 14 [44800/50000] Loss: 0.244584 Acc: 0.9531\n",
                        "Elapsed 496.14s, 33.08 s/epoch, 0.04 s/batch, ets 1157.66s\n",
                        "\n",
                        "Test set: Average loss: 0.8102, Accuracy: 7408/10000 (74%)\n",
                        "\n",
                        "Accuracy improved, saving the model.\n",
                        "\n",
                        "Train Epoch: 15 [6400/50000] Loss: 0.344561 Acc: 0.9062\n",
                        "Train Epoch: 15 [12800/50000] Loss: 0.252107 Acc: 0.9375\n",
                        "Train Epoch: 15 [19200/50000] Loss: 0.256960 Acc: 0.9219\n",
                        "Train Epoch: 15 [25600/50000] Loss: 0.223563 Acc: 0.8906\n",
                        "Train Epoch: 15 [32000/50000] Loss: 0.183294 Acc: 0.9531\n",
                        "Train Epoch: 15 [38400/50000] Loss: 0.372843 Acc: 0.8906\n",
                        "Train Epoch: 15 [44800/50000] Loss: 0.369000 Acc: 0.8750\n",
                        "Elapsed 530.00s, 33.13 s/epoch, 0.04 s/batch, ets 1126.25s\n",
                        "\n",
                        "Test set: Average loss: 2.3449, Accuracy: 5398/10000 (54%)\n",
                        "\n",
                        "Train Epoch: 16 [6400/50000] Loss: 0.173611 Acc: 0.9688\n",
                        "Train Epoch: 16 [12800/50000] Loss: 0.144848 Acc: 0.9688\n",
                        "Train Epoch: 16 [19200/50000] Loss: 0.202541 Acc: 0.9219\n",
                        "Train Epoch: 16 [25600/50000] Loss: 0.396524 Acc: 0.8594\n",
                        "Train Epoch: 16 [32000/50000] Loss: 0.323354 Acc: 0.8750\n",
                        "Train Epoch: 16 [38400/50000] Loss: 0.278110 Acc: 0.9219\n",
                        "Train Epoch: 16 [44800/50000] Loss: 0.179170 Acc: 0.9531\n",
                        "Elapsed 563.26s, 33.13 s/epoch, 0.04 s/batch, ets 1093.40s\n",
                        "\n",
                        "Test set: Average loss: 1.7034, Accuracy: 5946/10000 (59%)\n",
                        "\n",
                        "Train Epoch: 17 [6400/50000] Loss: 0.206172 Acc: 0.9219\n",
                        "Train Epoch: 17 [12800/50000] Loss: 0.142003 Acc: 0.9688\n",
                        "Train Epoch: 17 [19200/50000] Loss: 0.182324 Acc: 0.9688\n",
                        "Train Epoch: 17 [25600/50000] Loss: 0.123071 Acc: 0.9844\n",
                        "Train Epoch: 17 [32000/50000] Loss: 0.124336 Acc: 0.9688\n",
                        "Train Epoch: 17 [38400/50000] Loss: 0.327732 Acc: 0.8281\n",
                        "Train Epoch: 17 [44800/50000] Loss: 0.255500 Acc: 0.9375\n",
                        "Elapsed 596.04s, 33.11 s/epoch, 0.04 s/batch, ets 1059.62s\n",
                        "\n",
                        "Test set: Average loss: 1.3525, Accuracy: 6555/10000 (66%)\n",
                        "\n",
                        "Train Epoch: 18 [6400/50000] Loss: 0.204223 Acc: 0.9219\n",
                        "Train Epoch: 18 [12800/50000] Loss: 0.149716 Acc: 0.9531\n",
                        "Train Epoch: 18 [19200/50000] Loss: 0.190051 Acc: 0.9375\n",
                        "Train Epoch: 18 [25600/50000] Loss: 0.160003 Acc: 0.9531\n",
                        "Train Epoch: 18 [32000/50000] Loss: 0.113138 Acc: 0.9688\n",
                        "Train Epoch: 18 [38400/50000] Loss: 0.174215 Acc: 0.9062\n",
                        "Train Epoch: 18 [44800/50000] Loss: 0.115738 Acc: 0.9844\n",
                        "Elapsed 629.14s, 33.11 s/epoch, 0.04 s/batch, ets 1026.49s\n",
                        "\n",
                        "Test set: Average loss: 1.3033, Accuracy: 6905/10000 (69%)\n",
                        "\n",
                        "Train Epoch: 19 [6400/50000] Loss: 0.113963 Acc: 0.9688\n",
                        "Train Epoch: 19 [12800/50000] Loss: 0.214610 Acc: 0.8750\n",
                        "Train Epoch: 19 [19200/50000] Loss: 0.077730 Acc: 1.0000\n",
                        "Train Epoch: 19 [25600/50000] Loss: 0.246791 Acc: 0.9375\n",
                        "Train Epoch: 19 [32000/50000] Loss: 0.200089 Acc: 0.9219\n",
                        "Train Epoch: 19 [38400/50000] Loss: 0.168729 Acc: 0.9531\n",
                        "Train Epoch: 19 [44800/50000] Loss: 0.153719 Acc: 0.9375\n",
                        "Elapsed 663.48s, 33.17 s/epoch, 0.04 s/batch, ets 995.22s\n",
                        "\n",
                        "Test set: Average loss: 1.1648, Accuracy: 7127/10000 (71%)\n",
                        "\n",
                        "Train Epoch: 20 [6400/50000] Loss: 0.080339 Acc: 0.9688\n",
                        "Train Epoch: 20 [12800/50000] Loss: 0.125623 Acc: 0.9531\n",
                        "Train Epoch: 20 [19200/50000] Loss: 0.124060 Acc: 0.9688\n",
                        "Train Epoch: 20 [25600/50000] Loss: 0.084391 Acc: 0.9844\n",
                        "Train Epoch: 20 [32000/50000] Loss: 0.214370 Acc: 0.9219\n",
                        "Train Epoch: 20 [38400/50000] Loss: 0.102029 Acc: 0.9688\n",
                        "Train Epoch: 20 [44800/50000] Loss: 0.082793 Acc: 0.9844\n",
                        "Elapsed 696.71s, 33.18 s/epoch, 0.04 s/batch, ets 962.12s\n",
                        "\n",
                        "Test set: Average loss: 1.0059, Accuracy: 7411/10000 (74%)\n",
                        "\n",
                        "Accuracy improved, saving the model.\n",
                        "\n",
                        "Train Epoch: 21 [6400/50000] Loss: 0.142292 Acc: 0.9531\n",
                        "Train Epoch: 21 [12800/50000] Loss: 0.176093 Acc: 0.9375\n",
                        "Train Epoch: 21 [19200/50000] Loss: 0.061229 Acc: 1.0000\n",
                        "Train Epoch: 21 [25600/50000] Loss: 0.087750 Acc: 0.9688\n",
                        "Train Epoch: 21 [32000/50000] Loss: 0.071023 Acc: 0.9844\n",
                        "Train Epoch: 21 [38400/50000] Loss: 0.131375 Acc: 0.9219\n",
                        "Train Epoch: 21 [44800/50000] Loss: 0.129815 Acc: 0.9531\n",
                        "Elapsed 729.75s, 33.17 s/epoch, 0.04 s/batch, ets 928.78s\n",
                        "\n",
                        "Test set: Average loss: 0.8864, Accuracy: 7703/10000 (77%)\n",
                        "\n",
                        "Accuracy improved, saving the model.\n",
                        "\n",
                        "Train Epoch: 22 [6400/50000] Loss: 0.034865 Acc: 1.0000\n",
                        "Train Epoch: 22 [12800/50000] Loss: 0.067104 Acc: 0.9844\n",
                        "Train Epoch: 22 [19200/50000] Loss: 0.131626 Acc: 0.9531\n",
                        "Train Epoch: 22 [25600/50000] Loss: 0.081618 Acc: 0.9531\n",
                        "Train Epoch: 22 [32000/50000] Loss: 0.080185 Acc: 0.9844\n",
                        "Train Epoch: 22 [38400/50000] Loss: 0.133338 Acc: 0.9688\n",
                        "Train Epoch: 22 [44800/50000] Loss: 0.116941 Acc: 0.9375\n",
                        "Elapsed 763.54s, 33.20 s/epoch, 0.04 s/batch, ets 896.33s\n",
                        "\n",
                        "Test set: Average loss: 1.0006, Accuracy: 7557/10000 (76%)\n",
                        "\n",
                        "Train Epoch: 23 [6400/50000] Loss: 0.124682 Acc: 0.9688\n",
                        "Train Epoch: 23 [12800/50000] Loss: 0.053425 Acc: 0.9844\n",
                        "Train Epoch: 23 [19200/50000] Loss: 0.173160 Acc: 0.9375\n",
                        "Train Epoch: 23 [25600/50000] Loss: 0.083678 Acc: 0.9844\n",
                        "Train Epoch: 23 [32000/50000] Loss: 0.059555 Acc: 0.9688\n",
                        "Train Epoch: 23 [38400/50000] Loss: 0.203928 Acc: 0.9219\n",
                        "Train Epoch: 23 [44800/50000] Loss: 0.079354 Acc: 0.9844\n",
                        "Elapsed 797.61s, 33.23 s/epoch, 0.04 s/batch, ets 864.08s\n",
                        "\n",
                        "Test set: Average loss: 1.1431, Accuracy: 7397/10000 (74%)\n",
                        "\n",
                        "Train Epoch: 24 [6400/50000] Loss: 0.045677 Acc: 0.9688\n",
                        "Train Epoch: 24 [12800/50000] Loss: 0.068342 Acc: 0.9688\n",
                        "Train Epoch: 24 [19200/50000] Loss: 0.029511 Acc: 1.0000\n",
                        "Train Epoch: 24 [25600/50000] Loss: 0.072714 Acc: 0.9688\n",
                        "Train Epoch: 24 [32000/50000] Loss: 0.171896 Acc: 0.9531\n",
                        "Train Epoch: 24 [38400/50000] Loss: 0.085912 Acc: 0.9844\n",
                        "Train Epoch: 24 [44800/50000] Loss: 0.163243 Acc: 0.9688\n",
                        "Elapsed 831.70s, 33.27 s/epoch, 0.04 s/batch, ets 831.70s\n",
                        "\n",
                        "Test set: Average loss: 0.9378, Accuracy: 7683/10000 (77%)\n",
                        "\n",
                        "Train Epoch: 25 [6400/50000] Loss: 0.039489 Acc: 1.0000\n",
                        "Train Epoch: 25 [12800/50000] Loss: 0.045925 Acc: 0.9844\n",
                        "Train Epoch: 25 [19200/50000] Loss: 0.051709 Acc: 0.9688\n",
                        "Train Epoch: 25 [25600/50000] Loss: 0.108996 Acc: 0.9688\n",
                        "Train Epoch: 25 [32000/50000] Loss: 0.073746 Acc: 0.9688\n",
                        "Train Epoch: 25 [38400/50000] Loss: 0.025924 Acc: 1.0000\n",
                        "Train Epoch: 25 [44800/50000] Loss: 0.030944 Acc: 1.0000\n",
                        "Elapsed 865.05s, 33.27 s/epoch, 0.04 s/batch, ets 798.50s\n",
                        "\n",
                        "Test set: Average loss: 2.8564, Accuracy: 5628/10000 (56%)\n",
                        "\n",
                        "Train Epoch: 26 [6400/50000] Loss: 0.035552 Acc: 1.0000\n",
                        "Train Epoch: 26 [12800/50000] Loss: 0.035823 Acc: 1.0000\n",
                        "Train Epoch: 26 [19200/50000] Loss: 0.033732 Acc: 1.0000\n",
                        "Train Epoch: 26 [25600/50000] Loss: 0.013079 Acc: 1.0000\n",
                        "Train Epoch: 26 [32000/50000] Loss: 0.117343 Acc: 0.9688\n",
                        "Train Epoch: 26 [38400/50000] Loss: 0.032923 Acc: 1.0000\n",
                        "Train Epoch: 26 [44800/50000] Loss: 0.017810 Acc: 1.0000\n",
                        "Elapsed 898.22s, 33.27 s/epoch, 0.04 s/batch, ets 765.15s\n",
                        "\n",
                        "Test set: Average loss: 2.6024, Accuracy: 5773/10000 (58%)\n",
                        "\n",
                        "Train Epoch: 27 [6400/50000] Loss: 0.065076 Acc: 0.9688\n",
                        "Train Epoch: 27 [12800/50000] Loss: 0.010018 Acc: 1.0000\n",
                        "Train Epoch: 27 [19200/50000] Loss: 0.038536 Acc: 0.9844\n",
                        "Train Epoch: 27 [25600/50000] Loss: 0.037623 Acc: 1.0000\n",
                        "Train Epoch: 27 [32000/50000] Loss: 0.021745 Acc: 1.0000\n",
                        "Train Epoch: 27 [38400/50000] Loss: 0.078735 Acc: 0.9688\n",
                        "Train Epoch: 27 [44800/50000] Loss: 0.027332 Acc: 1.0000\n",
                        "Elapsed 932.57s, 33.31 s/epoch, 0.04 s/batch, ets 732.73s\n",
                        "\n",
                        "Test set: Average loss: 1.6520, Accuracy: 7015/10000 (70%)\n",
                        "\n",
                        "Train Epoch: 28 [6400/50000] Loss: 0.023397 Acc: 1.0000\n",
                        "Train Epoch: 28 [12800/50000] Loss: 0.016439 Acc: 1.0000\n",
                        "Train Epoch: 28 [19200/50000] Loss: 0.011913 Acc: 1.0000\n",
                        "Train Epoch: 28 [25600/50000] Loss: 0.032312 Acc: 1.0000\n",
                        "Train Epoch: 28 [32000/50000] Loss: 0.018171 Acc: 1.0000\n",
                        "Train Epoch: 28 [38400/50000] Loss: 0.021373 Acc: 0.9844\n",
                        "Train Epoch: 28 [44800/50000] Loss: 0.024824 Acc: 1.0000\n",
                        "Elapsed 966.72s, 33.34 s/epoch, 0.04 s/batch, ets 700.04s\n",
                        "\n",
                        "Test set: Average loss: 1.0781, Accuracy: 7705/10000 (77%)\n",
                        "\n",
                        "Accuracy improved, saving the model.\n",
                        "\n",
                        "Train Epoch: 29 [6400/50000] Loss: 0.020894 Acc: 0.9844\n",
                        "Train Epoch: 29 [12800/50000] Loss: 0.006288 Acc: 1.0000\n",
                        "Train Epoch: 29 [19200/50000] Loss: 0.011755 Acc: 1.0000\n",
                        "Train Epoch: 29 [25600/50000] Loss: 0.007810 Acc: 1.0000\n",
                        "Train Epoch: 29 [32000/50000] Loss: 0.013995 Acc: 1.0000\n",
                        "Train Epoch: 29 [38400/50000] Loss: 0.007630 Acc: 1.0000\n",
                        "Train Epoch: 29 [44800/50000] Loss: 0.024623 Acc: 0.9844\n",
                        "Elapsed 1001.46s, 33.38 s/epoch, 0.04 s/batch, ets 667.64s\n",
                        "\n",
                        "Test set: Average loss: 1.1292, Accuracy: 7712/10000 (77%)\n",
                        "\n",
                        "Accuracy improved, saving the model.\n",
                        "\n",
                        "Train Epoch: 30 [6400/50000] Loss: 0.011611 Acc: 1.0000\n",
                        "Train Epoch: 30 [12800/50000] Loss: 0.005323 Acc: 1.0000\n",
                        "Train Epoch: 30 [19200/50000] Loss: 0.005951 Acc: 1.0000\n",
                        "Train Epoch: 30 [25600/50000] Loss: 0.007155 Acc: 1.0000\n",
                        "Train Epoch: 30 [32000/50000] Loss: 0.008020 Acc: 1.0000\n",
                        "Train Epoch: 30 [38400/50000] Loss: 0.007380 Acc: 1.0000\n",
                        "Train Epoch: 30 [44800/50000] Loss: 0.011611 Acc: 1.0000\n",
                        "Elapsed 1036.15s, 33.42 s/epoch, 0.04 s/batch, ets 635.06s\n",
                        "\n",
                        "Test set: Average loss: 1.1874, Accuracy: 7669/10000 (77%)\n",
                        "\n",
                        "Train Epoch: 31 [6400/50000] Loss: 0.006091 Acc: 1.0000\n",
                        "Train Epoch: 31 [12800/50000] Loss: 0.007982 Acc: 1.0000\n",
                        "Train Epoch: 31 [19200/50000] Loss: 0.002905 Acc: 1.0000\n",
                        "Train Epoch: 31 [25600/50000] Loss: 0.010677 Acc: 1.0000\n",
                        "Train Epoch: 31 [32000/50000] Loss: 0.008688 Acc: 1.0000\n",
                        "Train Epoch: 31 [38400/50000] Loss: 0.003715 Acc: 1.0000\n",
                        "Train Epoch: 31 [44800/50000] Loss: 0.010070 Acc: 1.0000\n",
                        "Elapsed 1070.65s, 33.46 s/epoch, 0.04 s/batch, ets 602.24s\n",
                        "\n",
                        "Test set: Average loss: 1.4490, Accuracy: 7345/10000 (73%)\n",
                        "\n",
                        "Train Epoch: 32 [6400/50000] Loss: 0.006396 Acc: 1.0000\n",
                        "Train Epoch: 32 [12800/50000] Loss: 0.005340 Acc: 1.0000\n",
                        "Train Epoch: 32 [19200/50000] Loss: 0.004453 Acc: 1.0000\n",
                        "Train Epoch: 32 [25600/50000] Loss: 0.005536 Acc: 1.0000\n",
                        "Train Epoch: 32 [32000/50000] Loss: 0.004605 Acc: 1.0000\n",
                        "Train Epoch: 32 [38400/50000] Loss: 0.004215 Acc: 1.0000\n",
                        "Train Epoch: 32 [44800/50000] Loss: 0.001467 Acc: 1.0000\n",
                        "Elapsed 1105.11s, 33.49 s/epoch, 0.04 s/batch, ets 569.30s\n",
                        "\n",
                        "Test set: Average loss: 1.1393, Accuracy: 7744/10000 (77%)\n",
                        "\n",
                        "Accuracy improved, saving the model.\n",
                        "\n",
                        "Train Epoch: 33 [6400/50000] Loss: 0.002484 Acc: 1.0000\n",
                        "Train Epoch: 33 [12800/50000] Loss: 0.004257 Acc: 1.0000\n",
                        "Train Epoch: 33 [19200/50000] Loss: 0.006009 Acc: 1.0000\n",
                        "Train Epoch: 33 [25600/50000] Loss: 0.001973 Acc: 1.0000\n",
                        "Train Epoch: 33 [32000/50000] Loss: 0.011841 Acc: 1.0000\n",
                        "Train Epoch: 33 [38400/50000] Loss: 0.002493 Acc: 1.0000\n",
                        "Train Epoch: 33 [44800/50000] Loss: 0.002865 Acc: 1.0000\n",
                        "Elapsed 1139.85s, 33.52 s/epoch, 0.04 s/batch, ets 536.40s\n",
                        "\n",
                        "Test set: Average loss: 1.1701, Accuracy: 7753/10000 (78%)\n",
                        "\n",
                        "Accuracy improved, saving the model.\n",
                        "\n",
                        "Train Epoch: 34 [6400/50000] Loss: 0.002767 Acc: 1.0000\n",
                        "Train Epoch: 34 [12800/50000] Loss: 0.002844 Acc: 1.0000\n",
                        "Train Epoch: 34 [19200/50000] Loss: 0.002547 Acc: 1.0000\n",
                        "Train Epoch: 34 [25600/50000] Loss: 0.003829 Acc: 1.0000\n",
                        "Train Epoch: 34 [32000/50000] Loss: 0.003237 Acc: 1.0000\n",
                        "Train Epoch: 34 [38400/50000] Loss: 0.001180 Acc: 1.0000\n",
                        "Train Epoch: 34 [44800/50000] Loss: 0.004169 Acc: 1.0000\n",
                        "Elapsed 1174.43s, 33.56 s/epoch, 0.04 s/batch, ets 503.33s\n",
                        "\n",
                        "Test set: Average loss: 1.2245, Accuracy: 7724/10000 (77%)\n",
                        "\n",
                        "Train Epoch: 35 [6400/50000] Loss: 0.005377 Acc: 1.0000\n",
                        "Train Epoch: 35 [12800/50000] Loss: 0.005194 Acc: 1.0000\n",
                        "Train Epoch: 35 [19200/50000] Loss: 0.002241 Acc: 1.0000\n",
                        "Train Epoch: 35 [25600/50000] Loss: 0.004551 Acc: 1.0000\n",
                        "Train Epoch: 35 [32000/50000] Loss: 0.008045 Acc: 1.0000\n",
                        "Train Epoch: 35 [38400/50000] Loss: 0.002239 Acc: 1.0000\n",
                        "Train Epoch: 35 [44800/50000] Loss: 0.002454 Acc: 1.0000\n",
                        "Elapsed 1208.79s, 33.58 s/epoch, 0.04 s/batch, ets 470.09s\n",
                        "\n",
                        "Test set: Average loss: 1.2084, Accuracy: 7775/10000 (78%)\n",
                        "\n",
                        "Accuracy improved, saving the model.\n",
                        "\n",
                        "Train Epoch: 36 [6400/50000] Loss: 0.001908 Acc: 1.0000\n",
                        "Train Epoch: 36 [12800/50000] Loss: 0.002242 Acc: 1.0000\n",
                        "Train Epoch: 36 [19200/50000] Loss: 0.005707 Acc: 1.0000\n",
                        "Train Epoch: 36 [25600/50000] Loss: 0.001686 Acc: 1.0000\n",
                        "Train Epoch: 36 [32000/50000] Loss: 0.002062 Acc: 1.0000\n",
                        "Train Epoch: 36 [38400/50000] Loss: 0.003155 Acc: 1.0000\n",
                        "Train Epoch: 36 [44800/50000] Loss: 0.004135 Acc: 1.0000\n",
                        "Elapsed 1243.19s, 33.60 s/epoch, 0.04 s/batch, ets 436.80s\n",
                        "\n",
                        "Test set: Average loss: 1.2411, Accuracy: 7721/10000 (77%)\n",
                        "\n",
                        "Train Epoch: 37 [6400/50000] Loss: 0.002728 Acc: 1.0000\n",
                        "Train Epoch: 37 [12800/50000] Loss: 0.002845 Acc: 1.0000\n",
                        "Train Epoch: 37 [19200/50000] Loss: 0.003461 Acc: 1.0000\n",
                        "Train Epoch: 37 [25600/50000] Loss: 0.001480 Acc: 1.0000\n",
                        "Train Epoch: 37 [32000/50000] Loss: 0.002894 Acc: 1.0000\n",
                        "Train Epoch: 37 [38400/50000] Loss: 0.001744 Acc: 1.0000\n",
                        "Train Epoch: 37 [44800/50000] Loss: 0.001967 Acc: 1.0000\n",
                        "Elapsed 1278.12s, 33.63 s/epoch, 0.04 s/batch, ets 403.62s\n",
                        "\n",
                        "Test set: Average loss: 2.0099, Accuracy: 6889/10000 (69%)\n",
                        "\n",
                        "Train Epoch: 38 [6400/50000] Loss: 0.003347 Acc: 1.0000\n",
                        "Train Epoch: 38 [12800/50000] Loss: 0.004768 Acc: 1.0000\n",
                        "Train Epoch: 38 [19200/50000] Loss: 0.002103 Acc: 1.0000\n",
                        "Train Epoch: 38 [25600/50000] Loss: 0.002970 Acc: 1.0000\n",
                        "Train Epoch: 38 [32000/50000] Loss: 0.002926 Acc: 1.0000\n",
                        "Train Epoch: 38 [38400/50000] Loss: 0.003978 Acc: 1.0000\n",
                        "Train Epoch: 38 [44800/50000] Loss: 0.001937 Acc: 1.0000\n",
                        "Elapsed 1313.49s, 33.68 s/epoch, 0.04 s/batch, ets 370.47s\n",
                        "\n",
                        "Test set: Average loss: 1.2275, Accuracy: 7777/10000 (78%)\n",
                        "\n",
                        "Accuracy improved, saving the model.\n",
                        "\n",
                        "Train Epoch: 39 [6400/50000] Loss: 0.002107 Acc: 1.0000\n",
                        "Train Epoch: 39 [12800/50000] Loss: 0.003235 Acc: 1.0000\n",
                        "Train Epoch: 39 [19200/50000] Loss: 0.003292 Acc: 1.0000\n",
                        "Train Epoch: 39 [25600/50000] Loss: 0.001355 Acc: 1.0000\n",
                        "Train Epoch: 39 [32000/50000] Loss: 0.003494 Acc: 1.0000\n",
                        "Train Epoch: 39 [38400/50000] Loss: 0.002913 Acc: 1.0000\n",
                        "Train Epoch: 39 [44800/50000] Loss: 0.001421 Acc: 1.0000\n",
                        "Elapsed 1349.29s, 33.73 s/epoch, 0.04 s/batch, ets 337.32s\n",
                        "\n",
                        "Test set: Average loss: 1.2425, Accuracy: 7738/10000 (77%)\n",
                        "\n",
                        "Train Epoch: 40 [6400/50000] Loss: 0.003047 Acc: 1.0000\n",
                        "Train Epoch: 40 [12800/50000] Loss: 0.003178 Acc: 1.0000\n",
                        "Train Epoch: 40 [19200/50000] Loss: 0.002433 Acc: 1.0000\n",
                        "Train Epoch: 40 [25600/50000] Loss: 0.001621 Acc: 1.0000\n",
                        "Train Epoch: 40 [32000/50000] Loss: 0.000980 Acc: 1.0000\n",
                        "Train Epoch: 40 [38400/50000] Loss: 0.002256 Acc: 1.0000\n",
                        "Train Epoch: 40 [44800/50000] Loss: 0.005960 Acc: 1.0000\n",
                        "Elapsed 1384.65s, 33.77 s/epoch, 0.04 s/batch, ets 303.95s\n",
                        "\n",
                        "Test set: Average loss: 1.2556, Accuracy: 7720/10000 (77%)\n",
                        "\n",
                        "Train Epoch: 41 [6400/50000] Loss: 0.001961 Acc: 1.0000\n",
                        "Train Epoch: 41 [12800/50000] Loss: 0.002097 Acc: 1.0000\n",
                        "Train Epoch: 41 [19200/50000] Loss: 0.001155 Acc: 1.0000\n",
                        "Train Epoch: 41 [25600/50000] Loss: 0.002356 Acc: 1.0000\n",
                        "Train Epoch: 41 [32000/50000] Loss: 0.001732 Acc: 1.0000\n",
                        "Train Epoch: 41 [38400/50000] Loss: 0.001506 Acc: 1.0000\n",
                        "Train Epoch: 41 [44800/50000] Loss: 0.002869 Acc: 1.0000\n",
                        "Elapsed 1419.06s, 33.79 s/epoch, 0.04 s/batch, ets 270.30s\n",
                        "\n",
                        "Test set: Average loss: 1.2510, Accuracy: 7738/10000 (77%)\n",
                        "\n",
                        "Train Epoch: 42 [6400/50000] Loss: 0.002419 Acc: 1.0000\n",
                        "Train Epoch: 42 [12800/50000] Loss: 0.000852 Acc: 1.0000\n",
                        "Train Epoch: 42 [19200/50000] Loss: 0.003603 Acc: 1.0000\n",
                        "Train Epoch: 42 [25600/50000] Loss: 0.002032 Acc: 1.0000\n",
                        "Train Epoch: 42 [32000/50000] Loss: 0.003380 Acc: 1.0000\n",
                        "Train Epoch: 42 [38400/50000] Loss: 0.001823 Acc: 1.0000\n",
                        "Train Epoch: 42 [44800/50000] Loss: 0.001117 Acc: 1.0000\n",
                        "Elapsed 1454.34s, 33.82 s/epoch, 0.04 s/batch, ets 236.75s\n",
                        "\n",
                        "Test set: Average loss: 1.2650, Accuracy: 7739/10000 (77%)\n",
                        "\n",
                        "Train Epoch: 43 [6400/50000] Loss: 0.000977 Acc: 1.0000\n",
                        "Train Epoch: 43 [12800/50000] Loss: 0.002991 Acc: 1.0000\n",
                        "Train Epoch: 43 [19200/50000] Loss: 0.000496 Acc: 1.0000\n",
                        "Train Epoch: 43 [25600/50000] Loss: 0.003688 Acc: 1.0000\n",
                        "Train Epoch: 43 [32000/50000] Loss: 0.003194 Acc: 1.0000\n",
                        "Train Epoch: 43 [38400/50000] Loss: 0.001089 Acc: 1.0000\n",
                        "Train Epoch: 43 [44800/50000] Loss: 0.001212 Acc: 1.0000\n",
                        "Elapsed 1488.85s, 33.84 s/epoch, 0.04 s/batch, ets 203.02s\n",
                        "\n",
                        "Test set: Average loss: 1.2854, Accuracy: 7750/10000 (78%)\n",
                        "\n",
                        "Train Epoch: 44 [6400/50000] Loss: 0.001862 Acc: 1.0000\n",
                        "Train Epoch: 44 [12800/50000] Loss: 0.001535 Acc: 1.0000\n",
                        "Train Epoch: 44 [19200/50000] Loss: 0.001000 Acc: 1.0000\n",
                        "Train Epoch: 44 [25600/50000] Loss: 0.000714 Acc: 1.0000\n",
                        "Train Epoch: 44 [32000/50000] Loss: 0.001087 Acc: 1.0000\n",
                        "Train Epoch: 44 [38400/50000] Loss: 0.003364 Acc: 1.0000\n",
                        "Train Epoch: 44 [44800/50000] Loss: 0.000914 Acc: 1.0000\n",
                        "Elapsed 1523.17s, 33.85 s/epoch, 0.04 s/batch, ets 169.24s\n",
                        "\n",
                        "Test set: Average loss: 1.2980, Accuracy: 7752/10000 (78%)\n",
                        "\n",
                        "Train Epoch: 45 [6400/50000] Loss: 0.001277 Acc: 1.0000\n",
                        "Train Epoch: 45 [12800/50000] Loss: 0.001443 Acc: 1.0000\n",
                        "Train Epoch: 45 [19200/50000] Loss: 0.001123 Acc: 1.0000\n",
                        "Train Epoch: 45 [25600/50000] Loss: 0.002016 Acc: 1.0000\n",
                        "Train Epoch: 45 [32000/50000] Loss: 0.001869 Acc: 1.0000\n",
                        "Train Epoch: 45 [38400/50000] Loss: 0.002874 Acc: 1.0000\n",
                        "Train Epoch: 45 [44800/50000] Loss: 0.001181 Acc: 1.0000\n",
                        "Elapsed 1557.71s, 33.86 s/epoch, 0.04 s/batch, ets 135.45s\n",
                        "\n",
                        "Test set: Average loss: 1.2854, Accuracy: 7740/10000 (77%)\n",
                        "\n",
                        "Train Epoch: 46 [6400/50000] Loss: 0.001042 Acc: 1.0000\n",
                        "Train Epoch: 46 [12800/50000] Loss: 0.002057 Acc: 1.0000\n",
                        "Train Epoch: 46 [19200/50000] Loss: 0.001154 Acc: 1.0000\n",
                        "Train Epoch: 46 [25600/50000] Loss: 0.001468 Acc: 1.0000\n",
                        "Train Epoch: 46 [32000/50000] Loss: 0.000916 Acc: 1.0000\n",
                        "Train Epoch: 46 [38400/50000] Loss: 0.001374 Acc: 1.0000\n",
                        "Train Epoch: 46 [44800/50000] Loss: 0.001001 Acc: 1.0000\n",
                        "Elapsed 1592.09s, 33.87 s/epoch, 0.04 s/batch, ets 101.62s\n",
                        "\n",
                        "Test set: Average loss: 10.2019, Accuracy: 3047/10000 (30%)\n",
                        "\n",
                        "Train Epoch: 47 [6400/50000] Loss: 0.029413 Acc: 1.0000\n",
                        "Train Epoch: 47 [12800/50000] Loss: 0.014418 Acc: 1.0000\n",
                        "Train Epoch: 47 [19200/50000] Loss: 0.008663 Acc: 1.0000\n",
                        "Train Epoch: 47 [25600/50000] Loss: 0.006483 Acc: 1.0000\n",
                        "Train Epoch: 47 [32000/50000] Loss: 0.008575 Acc: 1.0000\n",
                        "Train Epoch: 47 [38400/50000] Loss: 0.004366 Acc: 1.0000\n",
                        "Train Epoch: 47 [44800/50000] Loss: 0.004080 Acc: 1.0000\n",
                        "Elapsed 1626.00s, 33.87 s/epoch, 0.04 s/batch, ets 67.75s\n",
                        "\n",
                        "Test set: Average loss: 1.2140, Accuracy: 7766/10000 (78%)\n",
                        "\n",
                        "Train Epoch: 48 [6400/50000] Loss: 0.002044 Acc: 1.0000\n",
                        "Train Epoch: 48 [12800/50000] Loss: 0.003761 Acc: 1.0000\n",
                        "Train Epoch: 48 [19200/50000] Loss: 0.005116 Acc: 1.0000\n",
                        "Train Epoch: 48 [25600/50000] Loss: 0.002539 Acc: 1.0000\n",
                        "Train Epoch: 48 [32000/50000] Loss: 0.002892 Acc: 1.0000\n",
                        "Train Epoch: 48 [38400/50000] Loss: 0.001418 Acc: 1.0000\n",
                        "Train Epoch: 48 [44800/50000] Loss: 0.003422 Acc: 1.0000\n",
                        "Elapsed 1660.43s, 33.89 s/epoch, 0.04 s/batch, ets 33.89s\n",
                        "\n",
                        "Test set: Average loss: 1.2335, Accuracy: 7767/10000 (78%)\n",
                        "\n",
                        "Train Epoch: 49 [6400/50000] Loss: 0.004273 Acc: 1.0000\n",
                        "Train Epoch: 49 [12800/50000] Loss: 0.003762 Acc: 1.0000\n",
                        "Train Epoch: 49 [19200/50000] Loss: 0.002681 Acc: 1.0000\n",
                        "Train Epoch: 49 [25600/50000] Loss: 0.000571 Acc: 1.0000\n",
                        "Train Epoch: 49 [32000/50000] Loss: 0.000974 Acc: 1.0000\n",
                        "Train Epoch: 49 [38400/50000] Loss: 0.003987 Acc: 1.0000\n",
                        "Train Epoch: 49 [44800/50000] Loss: 0.001272 Acc: 1.0000\n",
                        "Elapsed 1694.68s, 33.89 s/epoch, 0.04 s/batch, ets -0.00s\n",
                        "\n",
                        "Test set: Average loss: 1.2398, Accuracy: 7762/10000 (78%)\n",
                        "\n",
                        "Total time: 1708.27, Best Loss: 0.810, Best Accuracy: 0.778\n"
                    ]
                }
            ],
            "source": [
                "if required_training:\n",
                "    model, epoch_train_loss, epoch_train_acc, epoch_test_loss, epoch_test_acc = main()"
            ]
        },
        {
            "cell_type": "markdown",
            "metadata": {
                "deletable": false,
                "editable": false,
                "nbgrader": {
                    "grade": false,
                    "locked": true,
                    "solution": false
                }
            },
            "source": [
                "# <font style=\"color:blue\">12. Plot Loss</font>"
            ]
        },
        {
            "cell_type": "code",
            "execution_count": 25,
            "metadata": {
                "deletable": false,
                "editable": false,
                "lines_to_next_cell": 2,
                "nbgrader": {
                    "grade": false,
                    "locked": true,
                    "solution": false
                }
            },
            "outputs": [
                {
                    "data": {
                        "image/png": "[encoded data removed]",
                        "text/plain": [
                            "<Figure size 1000x600 with 1 Axes>"
                        ]
                    },
                    "metadata": {},
                    "output_type": "display_data"
                }
            ],
            "source": [
                "# Plot loss\n",
                "plt.rcParams[\"figure.figsize\"] = (10, 6)\n",
                "x = range(len(epoch_train_loss))\n",
                "\n",
                "\n",
                "plt.figure\n",
                "plt.plot(x, epoch_train_loss, color='r', label=\"train loss\")\n",
                "plt.plot(x, epoch_test_loss, color='b', label=\"validation loss\")\n",
                "plt.xlabel('epoch no.')\n",
                "plt.ylabel('loss')\n",
                "plt.legend(loc='upper right')\n",
                "plt.title('Training and Validation Loss')\n",
                "plt.show()"
            ]
        },
        {
            "cell_type": "markdown",
            "metadata": {
                "deletable": false,
                "editable": false,
                "nbgrader": {
                    "grade": false,
                    "locked": true,
                    "solution": false
                }
            },
            "source": [
                "# <font style=\"color:blue\">13. Plot Accuracy</font>"
            ]
        },
        {
            "cell_type": "code",
            "execution_count": 26,
            "metadata": {
                "deletable": false,
                "editable": false,
                "nbgrader": {
                    "grade": false,
                    "locked": true,
                    "solution": false
                }
            },
            "outputs": [
                {
                    "data": {
                        "image/png": "[encoded data removed]",
                        "text/plain": [
                            "<Figure size 1000x600 with 1 Axes>"
                        ]
                    },
                    "metadata": {},
                    "output_type": "display_data"
                }
            ],
            "source": [
                "# Plot loss\n",
                "plt.rcParams[\"figure.figsize\"] = (10, 6)\n",
                "x = range(len(epoch_train_loss))\n",
                "\n",
                "\n",
                "plt.figure\n",
                "plt.plot(x, epoch_train_acc, color='r', label=\"train accuracy\")\n",
                "plt.plot(x, epoch_test_acc, color='b', label=\"validation accuracy\")\n",
                "plt.xlabel('epoch no.')\n",
                "plt.ylabel('accuracy')\n",
                "plt.legend(loc='center right')\n",
                "plt.title('Training and Validation Accuracy')\n",
                "plt.show()"
            ]
        },
        {
            "cell_type": "markdown",
            "metadata": {
                "deletable": false,
                "editable": false,
                "nbgrader": {
                    "grade": false,
                    "locked": true,
                    "solution": false
                }
            },
            "source": [
                "# <font style=\"color:blue\">14. Loading the Model </font>\n"
            ]
        },
        {
            "cell_type": "code",
            "execution_count": 27,
            "metadata": {
                "deletable": false,
                "editable": false,
                "nbgrader": {
                    "grade": false,
                    "locked": true,
                    "solution": false
                }
            },
            "outputs": [
                {
                    "data": {
                        "text/plain": [
                            "<All keys matched successfully>"
                        ]
                    },
                    "execution_count": 27,
                    "metadata": {},
                    "output_type": "execute_result"
                }
            ],
            "source": [
                "# initialize the model\n",
                "cnn_model = MyModel()\n",
                "\n",
                "models = 'models'\n",
                "\n",
                "model_file_name = 'cifar10_cnn_model.pt'\n",
                "\n",
                "model_path = os.path.join(models, model_file_name)\n",
                "\n",
                "# loading the model and getting model parameters by using load_state_dict\n",
                "cnn_model.load_state_dict(torch.load(model_path))"
            ]
        },
        {
            "cell_type": "markdown",
            "metadata": {
                "deletable": false,
                "editable": false,
                "nbgrader": {
                    "grade": false,
                    "locked": true,
                    "solution": false
                }
            },
            "source": [
                "# <font style=\"color:blue\">15. Model Prediction</font>\n"
            ]
        },
        {
            "cell_type": "code",
            "execution_count": 28,
            "metadata": {
                "collapsed": true,
                "deletable": false,
                "editable": false,
                "nbgrader": {
                    "grade": false,
                    "locked": true,
                    "solution": false
                }
            },
            "outputs": [],
            "source": [
                "def prediction(model, train_config, batch_input):\n",
                "    \n",
                "    # send model to cpu/cuda according to your system configuration\n",
                "    model.to(train_config.device)\n",
                "    \n",
                "    # it is important to do model.eval() before prediction\n",
                "    model.eval()\n",
                "\n",
                "    data = batch_input.to(train_config.device)\n",
                "\n",
                "    output = model(data)\n",
                "\n",
                "    # Score to probability using softmax\n",
                "    prob = F.softmax(output, dim=1)\n",
                "\n",
                "    # get the max probability\n",
                "    pred_prob = prob.data.max(dim=1)[0]\n",
                "    \n",
                "    # get the index of the max probability\n",
                "    pred_index = prob.data.max(dim=1)[1]\n",
                "    \n",
                "    return pred_index.cpu().numpy(), pred_prob.cpu().numpy()"
            ]
        },
        {
            "cell_type": "markdown",
            "metadata": {
                "deletable": false,
                "editable": false,
                "nbgrader": {
                    "grade": false,
                    "locked": true,
                    "solution": false
                }
            },
            "source": [
                "# <font style=\"color:blue\">16. Perform Inference on sample images </font>\n",
                "\n",
                "For prediction, we need to transform the data in the same way as we have done during training. "
            ]
        },
        {
            "cell_type": "code",
            "execution_count": 29,
            "metadata": {
                "deletable": false,
                "editable": false,
                "lines_to_next_cell": 2,
                "nbgrader": {
                    "grade": false,
                    "locked": true,
                    "solution": false
                }
            },
            "outputs": [
                {
                    "data": {
                        "image/png": "[encoded data removed]",
                        "text/plain": [
                            "<Figure size 300x300 with 1 Axes>"
                        ]
                    },
                    "metadata": {},
                    "output_type": "display_data"
                },
                {
                    "data": {
                        "image/png": "[encoded data removed]",
                        "text/plain": [
                            "<Figure size 300x300 with 1 Axes>"
                        ]
                    },
                    "metadata": {},
                    "output_type": "display_data"
                },
                {
                    "data": {
                        "image/png": "[encoded data removed]",
                        "text/plain": [
                            "<Figure size 300x300 with 1 Axes>"
                        ]
                    },
                    "metadata": {},
                    "output_type": "display_data"
                },
                {
                    "data": {
                        "image/png": "[encoded data removed]",
                        "text/plain": [
                            "<Figure size 300x300 with 1 Axes>"
                        ]
                    },
                    "metadata": {},
                    "output_type": "display_data"
                },
                {
                    "data": {
                        "image/png": "[encoded data removed]",
                        "text/plain": [
                            "<Figure size 300x300 with 1 Axes>"
                        ]
                    },
                    "metadata": {},
                    "output_type": "display_data"
                }
            ],
            "source": [
                "classes = ('plane', 'car', 'bird', 'cat', 'deer', 'dog', 'frog', 'horse', 'ship', 'truck')\n",
                "\n",
                "batch_size = 5\n",
                "train_config = TrainingConfiguration()\n",
                "\n",
                "if torch.cuda.is_available():\n",
                "    train_config.device = \"cuda\"\n",
                "else:\n",
                "    train_config.device = \"cpu\"\n",
                "    \n",
                "    \n",
                "\n",
                "# load test data without image transformation\n",
                "test = torch.utils.data.DataLoader(\n",
                "    datasets.CIFAR10(root=train_config.data_root, train=False, download=False, \n",
                "                   transform=transforms.functional.to_tensor),\n",
                "    batch_size=batch_size,\n",
                "    shuffle=False,\n",
                "    num_workers=1\n",
                "    )\n",
                "\n",
                "try:\n",
                "    mean, std = get_mean_std_train_data(data_root)\n",
                "    assert len(mean) == len(std) == 3\n",
                "except:\n",
                "    mean = (0.5, 0.5, 0.5)\n",
                "    std = (0.5, 0.5, 0.5)\n",
                "\n",
                "# load testdata with image transformation\n",
                "image_transforms = transforms.Compose([\n",
                "    transforms.ToTensor(),\n",
                "    transforms.Normalize(mean, std)\n",
                "    ])\n",
                "\n",
                "test_trans = torch.utils.data.DataLoader(\n",
                "    datasets.CIFAR10(root=train_config.data_root, train=False, download=False, transform=image_transforms),\n",
                "    batch_size=batch_size,\n",
                "    shuffle=False,\n",
                "    num_workers=1\n",
                "    )\n",
                "\n",
                "for data, _ in test_trans:\n",
                "    # pass the loaded model\n",
                "    pred, prob = prediction(cnn_model, train_config, data)\n",
                "    break\n",
                "    \n",
                "\n",
                "plt.rcParams[\"figure.figsize\"] = (3, 3)\n",
                "for images, label in test:\n",
                "    for i, img in enumerate(images):\n",
                "        img = transforms.functional.to_pil_image(img)\n",
                "        plt.imshow(img)\n",
                "        plt.gca().set_title('Pred: {0}({1:0.2}), Label: {2}'.format(classes[pred[i]], prob[i], classes[label[i]]))\n",
                "        plt.show()\n",
                "    break"
            ]
        },
        {
            "attachments": {
                "image-2.png": {
                    "image/png": "[encoded data removed]"
                },
                "image-3.png": {
                    "image/png": "[encoded data removed]"
                },
                "image.png": {
                    "image/png": "[encoded data removed]"
                }
            },
            "cell_type": "markdown",
            "metadata": {},
            "source": [
                "# <font style=\"color:blue\">17. Report your findings</font>\n",
                "> **Model Architecture:** The CNN model was implemented with three convolutional layers, each followed by batch normalization, ReLU activation, and max pooling. The final layers were fully connected layers to produce the output for 10 classes. But based on the training curve, looks like a simpler architecture could have achieved similar or better accuracy.\n",
                "\n",
                "> **Training Configuration:**  The final training configuration, which included a batch size of 64, 50 epochs, a learning rate of 0.01, momentum of 0.9, and weight decay of 5e-4. The training was performed on a GPU to speed up the process.\n",
                "\n",
                "### Predicted Results \n",
                "> ![image.png](attachment:image.png)\n",
                "- miss classified, also the image is blurry and the shape of the plane does look like a bird\n",
                "> ![image-2.png](attachment:image-2.png) \n",
                "- another wrong classification from the test sample, but the confidence is just (0.31) which can be avoided. Overall it is a good classifier, not the best but could be better.\n",
                "\n",
                "\n",
                "### Insight of the training accuracy curve\n",
                "> ![image-3.png](attachment:image-3.png) \n",
                "-the training curve seems to memorized or learning the training set completely as it stabilized at 1.0 (or 100%). However the gap between the validation and the training indicates that there is high overfitting. \n",
                "- only 20-30 epochs would have been enough for the current parameter setting, using Regularizers, or using DropOut layers in the future training scope may help prevent this overfitting issue.\n",
                "\n",
                "> It was interesting to see the how change in few parameters affected the performance of the model, with just a few parameter tweaking to achieve a higher accuracy. This training can be optimized further but because of time constraints, I will keep to this architecture and configurations.\n",
                "\n",
                "**PS:** the curve and images of test samples results might have changed, as I have retrained on a different architecture becuase the AutoGrader did not accept functional approach of defining the NN, as it could not find `ReLU`. "
            ]
        },
        {
            "cell_type": "markdown",
            "metadata": {
                "deletable": false,
                "editable": false,
                "nbgrader": {
                    "grade": false,
                    "locked": true,
                    "solution": false
                }
            },
            "source": [
                "# <font style=\"color:blue\">References</font>\n",
                "\n",
                "1. https://pytorch.org/tutorials/beginner/data_loading_tutorial.html\n",
                "1. https://pytorch.org/tutorials/beginner/saving_loading_models.html"
            ]
        }
    ],
    "metadata": {
        "kernelspec": {
            "display_name": "Python 3",
            "language": "python",
            "name": "python3"
        },
        "language_info": {
            "codemirror_mode": {
                "name": "ipython",
                "version": 3
            },
            "file_extension": ".py",
            "mimetype": "text/x-python",
            "name": "python",
            "nbconvert_exporter": "python",
            "pygments_lexer": "ipython3",
            "version": "3.11.9"
        }
    },
    "nbformat": 4,
    "nbformat_minor": 2
}
